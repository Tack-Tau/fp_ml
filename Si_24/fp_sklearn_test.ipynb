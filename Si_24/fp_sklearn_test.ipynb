{
 "cells": [
  {
   "cell_type": "code",
   "execution_count": 1,
   "id": "8bfa7749",
   "metadata": {},
   "outputs": [],
   "source": [
    "%matplotlib inline\n",
    "%config InlineBackend.figure_format='retina'"
   ]
  },
  {
   "cell_type": "code",
   "execution_count": 2,
   "id": "fa88694b",
   "metadata": {},
   "outputs": [],
   "source": [
    "import matplotlib.pyplot as plt\n",
    "import numpy as np\n",
    "from matplotlib.colors import ListedColormap\n",
    "\n",
    "from sklearn.datasets import make_circles, make_classification, make_moons\n",
    "from sklearn.discriminant_analysis import QuadraticDiscriminantAnalysis\n",
    "from sklearn.ensemble import AdaBoostClassifier, RandomForestClassifier\n",
    "from sklearn.gaussian_process import GaussianProcessClassifier\n",
    "from sklearn.gaussian_process.kernels import RBF\n",
    "from sklearn.inspection import DecisionBoundaryDisplay\n",
    "from sklearn.model_selection import train_test_split\n",
    "from sklearn.naive_bayes import GaussianNB\n",
    "from sklearn.neighbors import KNeighborsClassifier\n",
    "from sklearn.neural_network import MLPClassifier\n",
    "from sklearn.pipeline import make_pipeline\n",
    "from sklearn.preprocessing import StandardScaler\n",
    "from sklearn.svm import SVC\n",
    "from sklearn.tree import DecisionTreeClassifier"
   ]
  },
  {
   "cell_type": "code",
   "execution_count": 3,
   "id": "3a511f1d",
   "metadata": {},
   "outputs": [],
   "source": [
    "d_fp_arr = np.genfromtxt('direct_fp_arr', delimiter=',')\n",
    "in_fp_arr = np.genfromtxt('indirect_fp_arr', delimiter=',')\n",
    "m_fp_arr = np.genfromtxt('metallic_fp_arr', delimiter=',')"
   ]
  },
  {
   "cell_type": "code",
   "execution_count": 4,
   "id": "a7126079",
   "metadata": {},
   "outputs": [
    {
     "data": {
      "text/plain": [
       "((48, 300), (12720, 300), (312, 300))"
      ]
     },
     "execution_count": 4,
     "metadata": {},
     "output_type": "execute_result"
    }
   ],
   "source": [
    "d_fp_arr.shape, in_fp_arr.shape, m_fp_arr.shape"
   ]
  },
  {
   "cell_type": "code",
   "execution_count": 5,
   "id": "1549c882",
   "metadata": {},
   "outputs": [
    {
     "data": {
      "text/plain": [
       "array([1.32151946e+00, 5.21004583e-01, 5.17490732e-01, 4.84209395e-01,\n",
       "       3.01039397e-01, 1.47388537e-01, 1.45111664e-01, 1.17087873e-01,\n",
       "       1.13405364e-01, 9.86005220e-02, 8.73598024e-02, 7.98760930e-02,\n",
       "       7.64476850e-02, 7.60371812e-02, 6.18558480e-02, 5.61245247e-02,\n",
       "       3.97216136e-02, 3.74927633e-02, 2.58488294e-02, 2.56525486e-02,\n",
       "       2.08963734e-02, 1.95846546e-02, 1.93028413e-02, 1.27966116e-03,\n",
       "       1.18343539e-03, 1.18280578e-03, 6.39563867e-05, 6.20779403e-05,\n",
       "       6.01975569e-05, 5.90765884e-05, 5.32111639e-05, 5.15338281e-05,\n",
       "       2.75438377e-05, 2.50999073e-05, 1.09704445e-05, 1.09631648e-05,\n",
       "       3.85474003e-06, 3.82914628e-06, 1.88284877e-06, 7.90168512e-07,\n",
       "       7.26134191e-07, 2.78813977e-07, 2.35246273e-07, 2.26400960e-07,\n",
       "       2.26089642e-07, 1.98102526e-09, 1.97964514e-09, 0.00000000e+00,\n",
       "       0.00000000e+00, 0.00000000e+00, 0.00000000e+00, 0.00000000e+00,\n",
       "       0.00000000e+00, 0.00000000e+00, 0.00000000e+00, 0.00000000e+00,\n",
       "       0.00000000e+00, 0.00000000e+00, 0.00000000e+00, 0.00000000e+00,\n",
       "       0.00000000e+00, 0.00000000e+00, 0.00000000e+00, 0.00000000e+00,\n",
       "       0.00000000e+00, 0.00000000e+00, 0.00000000e+00, 0.00000000e+00,\n",
       "       0.00000000e+00, 0.00000000e+00, 0.00000000e+00, 0.00000000e+00,\n",
       "       0.00000000e+00, 0.00000000e+00, 0.00000000e+00, 0.00000000e+00,\n",
       "       0.00000000e+00, 0.00000000e+00, 0.00000000e+00, 0.00000000e+00,\n",
       "       0.00000000e+00, 0.00000000e+00, 0.00000000e+00, 0.00000000e+00,\n",
       "       0.00000000e+00, 0.00000000e+00, 0.00000000e+00, 0.00000000e+00,\n",
       "       0.00000000e+00, 0.00000000e+00, 0.00000000e+00, 0.00000000e+00,\n",
       "       0.00000000e+00, 0.00000000e+00, 0.00000000e+00, 0.00000000e+00,\n",
       "       0.00000000e+00, 0.00000000e+00, 0.00000000e+00, 0.00000000e+00,\n",
       "       0.00000000e+00, 0.00000000e+00, 0.00000000e+00, 0.00000000e+00,\n",
       "       0.00000000e+00, 0.00000000e+00, 0.00000000e+00, 0.00000000e+00,\n",
       "       0.00000000e+00, 0.00000000e+00, 0.00000000e+00, 0.00000000e+00,\n",
       "       0.00000000e+00, 0.00000000e+00, 0.00000000e+00, 0.00000000e+00,\n",
       "       0.00000000e+00, 0.00000000e+00, 0.00000000e+00, 0.00000000e+00,\n",
       "       0.00000000e+00, 0.00000000e+00, 0.00000000e+00, 0.00000000e+00,\n",
       "       0.00000000e+00, 0.00000000e+00, 0.00000000e+00, 0.00000000e+00,\n",
       "       0.00000000e+00, 0.00000000e+00, 0.00000000e+00, 0.00000000e+00,\n",
       "       0.00000000e+00, 0.00000000e+00, 0.00000000e+00, 0.00000000e+00,\n",
       "       0.00000000e+00, 0.00000000e+00, 0.00000000e+00, 0.00000000e+00,\n",
       "       0.00000000e+00, 0.00000000e+00, 0.00000000e+00, 0.00000000e+00,\n",
       "       0.00000000e+00, 0.00000000e+00, 0.00000000e+00, 0.00000000e+00,\n",
       "       0.00000000e+00, 0.00000000e+00, 0.00000000e+00, 0.00000000e+00,\n",
       "       0.00000000e+00, 0.00000000e+00, 0.00000000e+00, 0.00000000e+00,\n",
       "       0.00000000e+00, 0.00000000e+00, 0.00000000e+00, 0.00000000e+00,\n",
       "       0.00000000e+00, 0.00000000e+00, 0.00000000e+00, 0.00000000e+00,\n",
       "       0.00000000e+00, 0.00000000e+00, 0.00000000e+00, 0.00000000e+00,\n",
       "       0.00000000e+00, 0.00000000e+00, 0.00000000e+00, 0.00000000e+00,\n",
       "       0.00000000e+00, 0.00000000e+00, 0.00000000e+00, 0.00000000e+00,\n",
       "       0.00000000e+00, 0.00000000e+00, 0.00000000e+00, 0.00000000e+00,\n",
       "       0.00000000e+00, 0.00000000e+00, 0.00000000e+00, 0.00000000e+00,\n",
       "       0.00000000e+00, 0.00000000e+00, 0.00000000e+00, 0.00000000e+00,\n",
       "       0.00000000e+00, 0.00000000e+00, 0.00000000e+00, 0.00000000e+00,\n",
       "       0.00000000e+00, 0.00000000e+00, 0.00000000e+00, 0.00000000e+00,\n",
       "       0.00000000e+00, 0.00000000e+00, 0.00000000e+00, 0.00000000e+00,\n",
       "       0.00000000e+00, 0.00000000e+00, 0.00000000e+00, 0.00000000e+00,\n",
       "       0.00000000e+00, 0.00000000e+00, 0.00000000e+00, 0.00000000e+00,\n",
       "       0.00000000e+00, 0.00000000e+00, 0.00000000e+00, 0.00000000e+00,\n",
       "       0.00000000e+00, 0.00000000e+00, 0.00000000e+00, 0.00000000e+00,\n",
       "       0.00000000e+00, 0.00000000e+00, 0.00000000e+00, 0.00000000e+00,\n",
       "       0.00000000e+00, 0.00000000e+00, 0.00000000e+00, 0.00000000e+00,\n",
       "       0.00000000e+00, 0.00000000e+00, 0.00000000e+00, 0.00000000e+00,\n",
       "       0.00000000e+00, 0.00000000e+00, 0.00000000e+00, 0.00000000e+00,\n",
       "       0.00000000e+00, 0.00000000e+00, 0.00000000e+00, 0.00000000e+00,\n",
       "       0.00000000e+00, 0.00000000e+00, 0.00000000e+00, 0.00000000e+00,\n",
       "       0.00000000e+00, 0.00000000e+00, 0.00000000e+00, 0.00000000e+00,\n",
       "       0.00000000e+00, 0.00000000e+00, 0.00000000e+00, 0.00000000e+00,\n",
       "       0.00000000e+00, 0.00000000e+00, 0.00000000e+00, 0.00000000e+00,\n",
       "       0.00000000e+00, 0.00000000e+00, 0.00000000e+00, 0.00000000e+00,\n",
       "       0.00000000e+00, 0.00000000e+00, 0.00000000e+00, 0.00000000e+00,\n",
       "       0.00000000e+00, 0.00000000e+00, 0.00000000e+00, 0.00000000e+00,\n",
       "       0.00000000e+00, 0.00000000e+00, 0.00000000e+00, 0.00000000e+00,\n",
       "       0.00000000e+00, 0.00000000e+00, 0.00000000e+00, 0.00000000e+00,\n",
       "       0.00000000e+00, 0.00000000e+00, 0.00000000e+00, 0.00000000e+00,\n",
       "       0.00000000e+00, 0.00000000e+00, 0.00000000e+00, 0.00000000e+00,\n",
       "       0.00000000e+00, 0.00000000e+00, 0.00000000e+00, 0.00000000e+00,\n",
       "       0.00000000e+00, 0.00000000e+00, 0.00000000e+00, 0.00000000e+00,\n",
       "       0.00000000e+00, 0.00000000e+00, 0.00000000e+00, 0.00000000e+00,\n",
       "       0.00000000e+00, 0.00000000e+00, 0.00000000e+00, 0.00000000e+00,\n",
       "       0.00000000e+00, 0.00000000e+00, 0.00000000e+00, 0.00000000e+00])"
      ]
     },
     "execution_count": 5,
     "metadata": {},
     "output_type": "execute_result"
    }
   ],
   "source": [
    "d_fp_arr[0, :]"
   ]
  },
  {
   "cell_type": "code",
   "execution_count": 6,
   "id": "636d55f2",
   "metadata": {},
   "outputs": [],
   "source": [
    "d_fp_list = d_fp_arr.ravel().tolist()\n",
    "in_fp_list = in_fp_arr.ravel().tolist()\n",
    "m_fp_list = m_fp_arr.ravel().tolist()\n"
   ]
  },
  {
   "cell_type": "code",
   "execution_count": 7,
   "id": "323f8457",
   "metadata": {},
   "outputs": [
    {
     "data": {
      "text/plain": [
       "14400"
      ]
     },
     "execution_count": 7,
     "metadata": {},
     "output_type": "execute_result"
    }
   ],
   "source": [
    "len(d_fp_list)"
   ]
  },
  {
   "cell_type": "code",
   "execution_count": 8,
   "id": "ddbf9c06",
   "metadata": {},
   "outputs": [],
   "source": [
    "d_fp_flat = np.array(d_fp_list).reshape((int(len(d_fp_arr)/12)), 3600)\n",
    "in_fp_flat = np.array(in_fp_list).reshape((int(len(in_fp_arr)/12)), 3600)\n",
    "m_fp_flat = np.array(m_fp_list).reshape((int(len(m_fp_arr)/12)), 3600)"
   ]
  },
  {
   "cell_type": "code",
   "execution_count": 9,
   "id": "82a4d7d8",
   "metadata": {},
   "outputs": [],
   "source": [
    "FP_ARR = np.vstack((d_fp_flat, in_fp_flat, m_fp_flat))"
   ]
  },
  {
   "cell_type": "code",
   "execution_count": 10,
   "id": "8ef09e81",
   "metadata": {},
   "outputs": [
    {
     "data": {
      "text/plain": [
       "((4, 3600), (1060, 3600), (26, 3600), (1090, 3600))"
      ]
     },
     "execution_count": 10,
     "metadata": {},
     "output_type": "execute_result"
    }
   ],
   "source": [
    "d_fp_flat.shape, in_fp_flat.shape, m_fp_flat.shape, FP_ARR.shape"
   ]
  },
  {
   "cell_type": "code",
   "execution_count": 11,
   "id": "11e2e354",
   "metadata": {},
   "outputs": [],
   "source": [
    "Y_ARR = [0]*4 + [1]*1060 + [2]*26"
   ]
  },
  {
   "cell_type": "code",
   "execution_count": 12,
   "id": "2c7e3f4e",
   "metadata": {},
   "outputs": [
    {
     "data": {
      "text/plain": [
       "1090"
      ]
     },
     "execution_count": 12,
     "metadata": {},
     "output_type": "execute_result"
    }
   ],
   "source": [
    "len(Y_ARR)"
   ]
  },
  {
   "cell_type": "code",
   "execution_count": 13,
   "id": "a8683658",
   "metadata": {},
   "outputs": [],
   "source": [
    "X_train, X_test, y_train, y_test = train_test_split(\n",
    "    FP_ARR, Y_ARR, test_size = 0.2, random_state = 42 )\n",
    "x_min, x_max = FP_ARR[:, 0].min() - 0.5, FP_ARR[:, 0].max() + 0.5\n",
    "y_min, y_max = FP_ARR[:, 1].min() - 0.5, FP_ARR[:, 1].max() + 0.5"
   ]
  },
  {
   "cell_type": "code",
   "execution_count": 14,
   "id": "1e8d6e2e",
   "metadata": {},
   "outputs": [
    {
     "name": "stdout",
     "output_type": "stream",
     "text": [
      "Nearest Neighbors 0.981651376146789\n",
      "Linear SVM 0.981651376146789\n",
      "RBF SVM 0.981651376146789\n",
      "Gaussian Process 0.981651376146789\n",
      "Decision Tree 0.981651376146789\n",
      "Random Forest 0.981651376146789\n",
      "Neural Net 0.981651376146789\n",
      "AdaBoost 0.981651376146789\n",
      "Naive Bayes 0.009174311926605505\n"
     ]
    },
    {
     "name": "stderr",
     "output_type": "stream",
     "text": [
      "/Users/shuosmacmini/miniforge3/envs/jupyter/lib/python3.9/site-packages/sklearn/naive_bayes.py:515: RuntimeWarning: divide by zero encountered in log\n",
      "  n_ij = -0.5 * np.sum(np.log(2.0 * np.pi * self.var_[i, :]))\n",
      "/Users/shuosmacmini/miniforge3/envs/jupyter/lib/python3.9/site-packages/sklearn/naive_bayes.py:516: RuntimeWarning: invalid value encountered in true_divide\n",
      "  n_ij -= 0.5 * np.sum(((X - self.theta_[i, :]) ** 2) / (self.var_[i, :]), 1)\n",
      "/Users/shuosmacmini/miniforge3/envs/jupyter/lib/python3.9/site-packages/sklearn/discriminant_analysis.py:926: UserWarning: Variables are collinear\n",
      "  warnings.warn(\"Variables are collinear\")\n"
     ]
    },
    {
     "name": "stdout",
     "output_type": "stream",
     "text": [
      "QDA 0.009174311926605505\n"
     ]
    },
    {
     "name": "stderr",
     "output_type": "stream",
     "text": [
      "/Users/shuosmacmini/miniforge3/envs/jupyter/lib/python3.9/site-packages/sklearn/discriminant_analysis.py:951: RuntimeWarning: divide by zero encountered in power\n",
      "  X2 = np.dot(Xm, R * (S ** (-0.5)))\n",
      "/Users/shuosmacmini/miniforge3/envs/jupyter/lib/python3.9/site-packages/sklearn/discriminant_analysis.py:951: RuntimeWarning: invalid value encountered in multiply\n",
      "  X2 = np.dot(Xm, R * (S ** (-0.5)))\n",
      "/Users/shuosmacmini/miniforge3/envs/jupyter/lib/python3.9/site-packages/sklearn/discriminant_analysis.py:954: RuntimeWarning: divide by zero encountered in log\n",
      "  u = np.asarray([np.sum(np.log(s)) for s in self.scalings_])\n"
     ]
    }
   ],
   "source": [
    "names = [\n",
    "    \"Nearest Neighbors\",\n",
    "    \"Linear SVM\",\n",
    "    \"RBF SVM\",\n",
    "    \"Gaussian Process\",\n",
    "    \"Decision Tree\",\n",
    "    \"Random Forest\",\n",
    "    \"Neural Net\",\n",
    "    \"AdaBoost\",\n",
    "    \"Naive Bayes\",\n",
    "    \"QDA\",\n",
    "]\n",
    "\n",
    "classifiers = [\n",
    "    KNeighborsClassifier(3),\n",
    "    SVC(kernel=\"linear\", C=0.025),\n",
    "    SVC(gamma=2, C=1),\n",
    "    GaussianProcessClassifier(1.0 * RBF(1.0)),\n",
    "    DecisionTreeClassifier(max_depth=5),\n",
    "    RandomForestClassifier(max_depth=5, n_estimators=10, max_features=1),\n",
    "    MLPClassifier(alpha=1, max_iter=1000),\n",
    "    AdaBoostClassifier(),\n",
    "    GaussianNB(),\n",
    "    QuadraticDiscriminantAnalysis(),\n",
    "]\n",
    "\n",
    "for name, clf in zip(names, classifiers):\n",
    "    # ds_cnt = 0 \n",
    "    # ax = plt.subplot(1, len(classifiers) + 1, 1)\n",
    "    clf = make_pipeline(StandardScaler(), clf)\n",
    "    clf.fit(X_train, y_train)\n",
    "    score = clf.score(X_test, y_test)\n",
    "    print(name, score)\n",
    "    '''\n",
    "    DecisionBoundaryDisplay.from_estimator(\n",
    "        clf, FP_ARR, cmap=plt.cm.RdBu, alpha=0.8, ax=ax, eps=0.5\n",
    "    )\n",
    "    # Plot the training points\n",
    "    ax.scatter(\n",
    "        X_train[:, 0], X_train[:, 1], c=y_train, cmap=ListedColormap([\"#FF0000\", \"#0000FF\"]), edgecolors=\"k\"\n",
    "    )\n",
    "    # Plot the testing points\n",
    "    ax.scatter(\n",
    "        X_test[:, 0],\n",
    "        X_test[:, 1],\n",
    "        c=y_test,\n",
    "        cmap=ListedColormap([\"#FF0000\", \"#0000FF\"]),\n",
    "        edgecolors=\"k\",\n",
    "        alpha=0.6,\n",
    "    )\n",
    "    \n",
    "    ax.set_xlim(x_min, x_max)\n",
    "    ax.set_ylim(y_min, y_max)\n",
    "    ax.set_xticks(())\n",
    "    ax.set_yticks(())\n",
    "    if ds_cnt == 0:\n",
    "        ax.set_title(name)\n",
    "    ax.text(\n",
    "        x_max - 0.3,\n",
    "        y_min + 0.3,\n",
    "        (\"%.2f\" % score).lstrip(\"0\"),\n",
    "        size=15,\n",
    "        horizontalalignment=\"right\",\n",
    "    )\n",
    "    '''"
   ]
  },
  {
   "cell_type": "code",
   "execution_count": null,
   "id": "8983a503",
   "metadata": {},
   "outputs": [],
   "source": []
  }
 ],
 "metadata": {
  "kernelspec": {
   "display_name": "Python 3 (ipykernel)",
   "language": "python",
   "name": "python3"
  },
  "language_info": {
   "codemirror_mode": {
    "name": "ipython",
    "version": 3
   },
   "file_extension": ".py",
   "mimetype": "text/x-python",
   "name": "python",
   "nbconvert_exporter": "python",
   "pygments_lexer": "ipython3",
   "version": "3.9.7"
  }
 },
 "nbformat": 4,
 "nbformat_minor": 5
}
