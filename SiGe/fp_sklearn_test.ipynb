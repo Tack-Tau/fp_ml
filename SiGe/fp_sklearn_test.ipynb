{
 "cells": [
  {
   "cell_type": "code",
   "execution_count": 1,
   "id": "8bfa7749",
   "metadata": {},
   "outputs": [],
   "source": [
    "%matplotlib inline\n",
    "%config InlineBackend.figure_format='retina'"
   ]
  },
  {
   "cell_type": "code",
   "execution_count": 2,
   "id": "fa88694b",
   "metadata": {},
   "outputs": [],
   "source": [
    "import matplotlib.pyplot as plt\n",
    "import numpy as np\n",
    "import pickle\n",
    "from matplotlib.colors import ListedColormap\n",
    "\n",
    "from sklearn.datasets import make_circles, make_classification, make_moons\n",
    "from sklearn.metrics import precision_score, recall_score, f1_score, accuracy_score, roc_auc_score\n",
    "from sklearn.linear_model import LogisticRegression\n",
    "from sklearn.naive_bayes import GaussianNB\n",
    "from sklearn.ensemble import AdaBoostClassifier, RandomForestClassifier, GradientBoostingClassifier\n",
    "from sklearn.gaussian_process import GaussianProcessClassifier\n",
    "from sklearn.gaussian_process.kernels import RBF\n",
    "from sklearn.inspection import DecisionBoundaryDisplay\n",
    "from sklearn.model_selection import train_test_split, KFold, StratifiedKFold\n",
    "from sklearn.neighbors import KNeighborsClassifier\n",
    "from sklearn.neural_network import MLPClassifier\n",
    "from sklearn.pipeline import make_pipeline\n",
    "from sklearn.preprocessing import StandardScaler\n",
    "from sklearn.svm import SVC\n",
    "from sklearn.tree import DecisionTreeClassifier"
   ]
  },
  {
   "cell_type": "code",
   "execution_count": 3,
   "id": "3a511f1d",
   "metadata": {},
   "outputs": [],
   "source": [
    "with open('mpid_bgap_info.pkl', 'rb') as f:\n",
    "    mpid_bgap_dict = pickle.load(f)\n",
    "    \n",
    "with open('mpid_fp_info.pkl', 'rb') as f:\n",
    "    mpid_fp_dict = pickle.load(f)"
   ]
  },
  {
   "cell_type": "code",
   "execution_count": 4,
   "id": "a7126079",
   "metadata": {},
   "outputs": [
    {
     "data": {
      "text/plain": [
       "(array([0.80884361, 0.29976806, 0.29843747, ..., 0.        , 0.        ,\n",
       "        0.        ]),\n",
       " array([0.79606863, 0.32157304, 0.3078777 , ..., 0.        , 0.        ,\n",
       "        0.        ]),\n",
       " array([0.80920501, 0.310002  , 0.30455711, ..., 0.        , 0.        ,\n",
       "        0.        ]),\n",
       " array([0.7698507 , 0.28575593, 0.28575554, ..., 0.        , 0.        ,\n",
       "        0.        ]))"
      ]
     },
     "execution_count": 4,
     "metadata": {},
     "output_type": "execute_result"
    }
   ],
   "source": [
    "mpid_bgap_dict['4H-Si-1'], mpid_bgap_dict['Si24-1'], mpid_bgap_dict['Si46-1'], mpid_bgap_dict['Si34-1']\n",
    "mpid_fp_dict['4H-Si-1'], mpid_fp_dict['Si24-1'], mpid_fp_dict['Si46-1'], mpid_fp_dict['Si34-1']"
   ]
  },
  {
   "cell_type": "code",
   "execution_count": 5,
   "id": "1549c882",
   "metadata": {},
   "outputs": [
    {
     "data": {
      "text/plain": [
       "((13800,), (13800,), (13800,), (13800,))"
      ]
     },
     "execution_count": 5,
     "metadata": {},
     "output_type": "execute_result"
    }
   ],
   "source": [
    "mpid_fp_dict['4H-Si-1'].shape, mpid_fp_dict['Si24-1'].shape, mpid_fp_dict['Si46-1'].shape, mpid_fp_dict['Si34-1'].shape"
   ]
  },
  {
   "cell_type": "code",
   "execution_count": 6,
   "id": "636d55f2",
   "metadata": {},
   "outputs": [],
   "source": [
    "fp_list = []\n",
    "band_info_list = []\n",
    "for mat_id in mpid_bgap_dict:\n",
    "    if mpid_bgap_dict[mat_id]['Metality'] == True:\n",
    "        band_info_list.append(int(0))\n",
    "        fp_list.append(mpid_fp_dict[mat_id].tolist())\n",
    "    else:\n",
    "        if mpid_bgap_dict[mat_id]['Direct or not'] == False:\n",
    "            band_info_list.append(int(1))\n",
    "            fp_list.append(mpid_fp_dict[mat_id].tolist())\n",
    "        else:\n",
    "            band_info_list.append(int(2))\n",
    "            fp_list.append(mpid_fp_dict[mat_id].tolist())\n",
    "            \n",
    "            \n"
   ]
  },
  {
   "cell_type": "code",
   "execution_count": 7,
   "id": "323f8457",
   "metadata": {},
   "outputs": [],
   "source": [
    "FP_ARR = np.array(fp_list, dtype=float)\n",
    "Y_ARR = np.array(band_info_list, dtype=float)"
   ]
  },
  {
   "cell_type": "code",
   "execution_count": 8,
   "id": "2c7e3f4e",
   "metadata": {},
   "outputs": [
    {
     "data": {
      "text/plain": [
       "((7913, 13800), (7913,))"
      ]
     },
     "execution_count": 8,
     "metadata": {},
     "output_type": "execute_result"
    }
   ],
   "source": [
    "FP_ARR.shape, Y_ARR.shape"
   ]
  },
  {
   "cell_type": "code",
   "execution_count": 9,
   "id": "1e8d6e2e",
   "metadata": {},
   "outputs": [
    {
     "name": "stdout",
     "output_type": "stream",
     "text": [
      "------------------------------------------------------------------------------------------------------------------------\n",
      "Classifier: Nearest Neighbors\n",
      "[fold 0] Recall score: 0.96717172, F1 score: 0.96612196, One-Over-Rest ROC: 0.99398349, One-Over-One ROC: 0.98796760\n",
      "[fold 1] Recall score: 0.96464646, F1 score: 0.96231918, One-Over-Rest ROC: 0.98802323, One-Over-One ROC: 0.87431593\n",
      "[fold 2] Recall score: 0.96717172, F1 score: 0.96640963, One-Over-Rest ROC: 0.99242890, One-Over-One ROC: 0.87725696\n",
      "[fold 3] Recall score: 0.95701643, F1 score: 0.95638325, One-Over-Rest ROC: 0.97774731, One-Over-One ROC: 0.81693717\n",
      "[fold 4] Recall score: 0.96713021, F1 score: 0.96533465, One-Over-Rest ROC: 0.99143741, One-Over-One ROC: 0.87103265\n",
      "[fold 5] Recall score: 0.97345133, F1 score: 0.97162323, One-Over-Rest ROC: 0.99037931, One-Over-One ROC: 0.82279545\n",
      "[fold 6] Recall score: 0.96460177, F1 score: 0.96274174, One-Over-Rest ROC: 0.99214211, One-Over-One ROC: 0.98919600\n",
      "[fold 7] Recall score: 0.96333755, F1 score: 0.96254003, One-Over-Rest ROC: 0.98880748, One-Over-One ROC: 0.89148109\n",
      "[fold 8] Recall score: 0.95954488, F1 score: 0.95763189, One-Over-Rest ROC: 0.98918300, One-Over-One ROC: 0.82018124\n",
      "[fold 9] Recall score: 0.95701643, F1 score: 0.95614112, One-Over-Rest ROC: 0.98930863, One-Over-One ROC: 0.86290171\n",
      "------------------------------------------------------------------------------------------------------------------------\n",
      "Classifier: Logistic Regression\n",
      "[fold 0] Recall score: 0.96212121, F1 score: 0.96178198, One-Over-Rest ROC: 0.99587449, One-Over-One ROC: 0.94328137\n",
      "[fold 1] Recall score: 0.95959596, F1 score: 0.96228341, One-Over-Rest ROC: 0.99502736, One-Over-One ROC: 0.97726597\n",
      "[fold 2] Recall score: 0.96843434, F1 score: 0.96899868, One-Over-Rest ROC: 0.99456176, One-Over-One ROC: 0.94954061\n",
      "[fold 3] Recall score: 0.96460177, F1 score: 0.96518948, One-Over-Rest ROC: 0.99105071, One-Over-One ROC: 0.90619241\n",
      "[fold 4] Recall score: 0.95195954, F1 score: 0.95566069, One-Over-Rest ROC: 0.99278599, One-Over-One ROC: 0.91849761\n",
      "[fold 5] Recall score: 0.97724399, F1 score: 0.97745251, One-Over-Rest ROC: 0.99811067, One-Over-One ROC: 0.99149281\n",
      "[fold 6] Recall score: 0.96713021, F1 score: 0.96881038, One-Over-Rest ROC: 0.99633669, One-Over-One ROC: 0.98940871\n",
      "[fold 7] Recall score: 0.96460177, F1 score: 0.96527173, One-Over-Rest ROC: 0.99433191, One-Over-One ROC: 0.93822066\n",
      "[fold 8] Recall score: 0.96965866, F1 score: 0.96842258, One-Over-Rest ROC: 0.99405619, One-Over-One ROC: 0.92286163\n",
      "[fold 9] Recall score: 0.95448799, F1 score: 0.95570679, One-Over-Rest ROC: 0.99329062, One-Over-One ROC: 0.95622105\n",
      "------------------------------------------------------------------------------------------------------------------------\n",
      "Classifier: RBF SVM\n",
      "[fold 0] Recall score: 0.88636364, F1 score: 0.91423803, One-Over-Rest ROC: 0.98883403, One-Over-One ROC: 0.93954323\n",
      "[fold 1] Recall score: 0.89015152, F1 score: 0.91866575, One-Over-Rest ROC: 0.98868177, One-Over-One ROC: 0.95679113\n",
      "[fold 2] Recall score: 0.89520202, F1 score: 0.92088560, One-Over-Rest ROC: 0.99398046, One-Over-One ROC: 0.95904909\n",
      "[fold 3] Recall score: 0.89506953, F1 score: 0.91994030, One-Over-Rest ROC: 0.98009620, One-Over-One ROC: 0.89416386\n",
      "[fold 4] Recall score: 0.89380531, F1 score: 0.91955194, One-Over-Rest ROC: 0.98735266, One-Over-One ROC: 0.89437181\n",
      "[fold 5] Recall score: 0.91656131, F1 score: 0.94028099, One-Over-Rest ROC: 0.99276337, One-Over-One ROC: 0.97080696\n",
      "[fold 6] Recall score: 0.90518331, F1 score: 0.93041658, One-Over-Rest ROC: 0.98863343, One-Over-One ROC: 0.98406819\n",
      "[fold 7] Recall score: 0.88621997, F1 score: 0.91294367, One-Over-Rest ROC: 0.98815879, One-Over-One ROC: 0.92205882\n",
      "[fold 8] Recall score: 0.93046776, F1 score: 0.94563719, One-Over-Rest ROC: 0.99110486, One-Over-One ROC: 0.91220192\n",
      "[fold 9] Recall score: 0.89254109, F1 score: 0.91613519, One-Over-Rest ROC: 0.98402567, One-Over-One ROC: 0.90076321\n",
      "------------------------------------------------------------------------------------------------------------------------\n",
      "Classifier: Polynomial SVM\n",
      "[fold 0] Recall score: 0.88762626, F1 score: 0.91494222, One-Over-Rest ROC: 0.98674243, One-Over-One ROC: 0.87432146\n",
      "[fold 1] Recall score: 0.90025253, F1 score: 0.92449335, One-Over-Rest ROC: 0.98630289, One-Over-One ROC: 0.95125391\n",
      "[fold 2] Recall score: 0.90277778, F1 score: 0.92524296, One-Over-Rest ROC: 0.99319851, One-Over-One ROC: 0.93182846\n",
      "[fold 3] Recall score: 0.90265487, F1 score: 0.92440735, One-Over-Rest ROC: 0.97859440, One-Over-One ROC: 0.90527137\n",
      "[fold 4] Recall score: 0.89633375, F1 score: 0.92102462, One-Over-Rest ROC: 0.98692097, One-Over-One ROC: 0.87935551\n",
      "[fold 5] Recall score: 0.92288243, F1 score: 0.94384797, One-Over-Rest ROC: 0.99231867, One-Over-One ROC: 0.96889047\n",
      "[fold 6] Recall score: 0.90518331, F1 score: 0.92984354, One-Over-Rest ROC: 0.98834431, One-Over-One ROC: 0.96835675\n",
      "[fold 7] Recall score: 0.88116308, F1 score: 0.90992448, One-Over-Rest ROC: 0.98659235, One-Over-One ROC: 0.92096655\n",
      "[fold 8] Recall score: 0.93046776, F1 score: 0.94540519, One-Over-Rest ROC: 0.98731948, One-Over-One ROC: 0.87724427\n",
      "[fold 9] Recall score: 0.88748420, F1 score: 0.91317254, One-Over-Rest ROC: 0.98083567, One-Over-One ROC: 0.84099646\n",
      "------------------------------------------------------------------------------------------------------------------------\n",
      "Classifier: Neural Net\n",
      "[fold 0] Recall score: 0.96969697, F1 score: 0.96866365, One-Over-Rest ROC: 0.99643932, One-Over-One ROC: 0.95137808\n",
      "[fold 1] Recall score: 0.96212121, F1 score: 0.96126772, One-Over-Rest ROC: 0.99313354, One-Over-One ROC: 0.94659548\n",
      "[fold 2] Recall score: 0.96843434, F1 score: 0.96776554, One-Over-Rest ROC: 0.99506604, One-Over-One ROC: 0.96677559\n",
      "[fold 3] Recall score: 0.95954488, F1 score: 0.95861757, One-Over-Rest ROC: 0.98870486, One-Over-One ROC: 0.86743259\n",
      "[fold 4] Recall score: 0.95954488, F1 score: 0.95961113, One-Over-Rest ROC: 0.99116827, One-Over-One ROC: 0.88973821\n",
      "[fold 5] Recall score: 0.97471555, F1 score: 0.97286167, One-Over-Rest ROC: 0.99612592, One-Over-One ROC: 0.96560705\n",
      "[fold 6] Recall score: 0.96460177, F1 score: 0.96266114, One-Over-Rest ROC: 0.99465677, One-Over-One ROC: 0.99225315\n",
      "[fold 7] Recall score: 0.95954488, F1 score: 0.95844511, One-Over-Rest ROC: 0.99349338, One-Over-One ROC: 0.94772937\n",
      "[fold 8] Recall score: 0.96333755, F1 score: 0.96076931, One-Over-Rest ROC: 0.99301628, One-Over-One ROC: 0.91770446\n",
      "[fold 9] Recall score: 0.95954488, F1 score: 0.95927649, One-Over-Rest ROC: 0.99262378, One-Over-One ROC: 0.97396070\n",
      "------------------------------------------------------------------------------------------------------------------------\n",
      "Classifier: Gaussian Process\n",
      "[fold 0] Recall score: 0.96843434, F1 score: 0.96736797, One-Over-Rest ROC: 0.99693211, One-Over-One ROC: 0.99357851\n",
      "[fold 1] Recall score: 0.96590909, F1 score: 0.96495820, One-Over-Rest ROC: 0.99364746, One-Over-One ROC: 0.94530026\n",
      "[fold 2] Recall score: 0.97348485, F1 score: 0.97271229, One-Over-Rest ROC: 0.99542865, One-Over-One ROC: 0.95976037\n",
      "[fold 3] Recall score: 0.96207332, F1 score: 0.96141202, One-Over-Rest ROC: 0.98921823, One-Over-One ROC: 0.89196010\n",
      "[fold 4] Recall score: 0.95954488, F1 score: 0.95775034, One-Over-Rest ROC: 0.99352417, One-Over-One ROC: 0.94906717\n",
      "[fold 5] Recall score: 0.97218710, F1 score: 0.97032066, One-Over-Rest ROC: 0.99599652, One-Over-One ROC: 0.95739635\n",
      "[fold 6] Recall score: 0.96839444, F1 score: 0.96591238, One-Over-Rest ROC: 0.99629483, One-Over-One ROC: 0.99237601\n",
      "[fold 7] Recall score: 0.96333755, F1 score: 0.96251390, One-Over-Rest ROC: 0.99309181, One-Over-One ROC: 0.94782451\n",
      "[fold 8] Recall score: 0.97092288, F1 score: 0.96841562, One-Over-Rest ROC: 0.98642275, One-Over-One ROC: 0.91353777\n",
      "[fold 9] Recall score: 0.95448799, F1 score: 0.95351517, One-Over-Rest ROC: 0.98893525, One-Over-One ROC: 0.90962197\n",
      "------------------------------------------------------------------------------------------------------------------------\n",
      "Classifier: Gaussian Naive Bayes\n",
      "[fold 0] Recall score: 0.87500000, F1 score: 0.90935644, One-Over-Rest ROC: 0.92791834, One-Over-One ROC: 0.88493515\n",
      "[fold 1] Recall score: 0.89141414, F1 score: 0.92125727, One-Over-Rest ROC: 0.93577331, One-Over-One ROC: 0.89117529\n"
     ]
    },
    {
     "name": "stdout",
     "output_type": "stream",
     "text": [
      "[fold 2] Recall score: 0.88636364, F1 score: 0.91564390, One-Over-Rest ROC: 0.93318944, One-Over-One ROC: 0.89289591\n",
      "[fold 3] Recall score: 0.89001264, F1 score: 0.91823716, One-Over-Rest ROC: 0.93131211, One-Over-One ROC: 0.82728069\n",
      "[fold 4] Recall score: 0.89759798, F1 score: 0.92229370, One-Over-Rest ROC: 0.93315113, One-Over-One ROC: 0.77789263\n",
      "[fold 5] Recall score: 0.90771176, F1 score: 0.93695563, One-Over-Rest ROC: 0.94605248, One-Over-One ROC: 0.85316502\n",
      "[fold 6] Recall score: 0.88748420, F1 score: 0.92248840, One-Over-Rest ROC: 0.93588718, One-Over-One ROC: 0.92405765\n",
      "[fold 7] Recall score: 0.92920354, F1 score: 0.93764671, One-Over-Rest ROC: 0.95029851, One-Over-One ROC: 0.85904227\n",
      "[fold 8] Recall score: 0.90897598, F1 score: 0.93289319, One-Over-Rest ROC: 0.94229027, One-Over-One ROC: 0.82254411\n",
      "[fold 9] Recall score: 0.91403287, F1 score: 0.92973741, One-Over-Rest ROC: 0.95414189, One-Over-One ROC: 0.82530167\n",
      "------------------------------------------------------------------------------------------------------------------------\n",
      "Classifier: Decision Tree\n",
      "[fold 0] Recall score: 0.69065657, F1 score: 0.78937943, One-Over-Rest ROC: 0.97587935, One-Over-One ROC: 0.91285553\n",
      "[fold 1] Recall score: 0.67045455, F1 score: 0.77014567, One-Over-Rest ROC: 0.97207904, One-Over-One ROC: 0.90647370\n",
      "[fold 2] Recall score: 0.89267677, F1 score: 0.92248938, One-Over-Rest ROC: 0.97518232, One-Over-One ROC: 0.88278163\n",
      "[fold 3] Recall score: 0.69152971, F1 score: 0.78726040, One-Over-Rest ROC: 0.97188007, One-Over-One ROC: 0.85933687\n",
      "[fold 4] Recall score: 0.68141593, F1 score: 0.77977842, One-Over-Rest ROC: 0.97274530, One-Over-One ROC: 0.91042325\n",
      "[fold 5] Recall score: 0.69532238, F1 score: 0.79387159, One-Over-Rest ROC: 0.97770439, One-Over-One ROC: 0.91542055\n",
      "[fold 6] Recall score: 0.65107459, F1 score: 0.75607580, One-Over-Rest ROC: 0.96975492, One-Over-One ROC: 0.90102618\n",
      "[fold 7] Recall score: 0.67509482, F1 score: 0.76972854, One-Over-Rest ROC: 0.97411333, One-Over-One ROC: 0.90728646\n",
      "[fold 8] Recall score: 0.89254109, F1 score: 0.92349756, One-Over-Rest ROC: 0.96969886, One-Over-One ROC: 0.88001033\n",
      "[fold 9] Recall score: 0.85840708, F1 score: 0.90451039, One-Over-Rest ROC: 0.97030232, One-Over-One ROC: 0.87036021\n",
      "------------------------------------------------------------------------------------------------------------------------\n",
      "Classifier: Random Forest\n",
      "[fold 0] Recall score: 0.96590909, F1 score: 0.96358479, One-Over-Rest ROC: 0.99658567, One-Over-One ROC: 0.98871149\n",
      "[fold 1] Recall score: 0.96338384, F1 score: 0.96280223, One-Over-Rest ROC: 0.99553430, One-Over-One ROC: 0.97604601\n",
      "[fold 2] Recall score: 0.96590909, F1 score: 0.96369548, One-Over-Rest ROC: 0.99645775, One-Over-One ROC: 0.96977184\n",
      "[fold 3] Recall score: 0.95954488, F1 score: 0.95899589, One-Over-Rest ROC: 0.98972769, One-Over-One ROC: 0.90228490\n",
      "[fold 4] Recall score: 0.96713021, F1 score: 0.96478211, One-Over-Rest ROC: 0.99477201, One-Over-One ROC: 0.95122034\n",
      "[fold 5] Recall score: 0.97092288, F1 score: 0.96852027, One-Over-Rest ROC: 0.99739017, One-Over-One ROC: 0.97921229\n",
      "[fold 6] Recall score: 0.96460177, F1 score: 0.96284092, One-Over-Rest ROC: 0.99557914, One-Over-One ROC: 0.98637325\n",
      "[fold 7] Recall score: 0.95575221, F1 score: 0.95539091, One-Over-Rest ROC: 0.99385793, One-Over-One ROC: 0.95568845\n",
      "[fold 8] Recall score: 0.96333755, F1 score: 0.96094914, One-Over-Rest ROC: 0.99492976, One-Over-One ROC: 0.94298188\n",
      "[fold 9] Recall score: 0.95954488, F1 score: 0.95901415, One-Over-Rest ROC: 0.99237099, One-Over-One ROC: 0.92868749\n",
      "------------------------------------------------------------------------------------------------------------------------\n",
      "Classifier: AdaBoost\n",
      "[fold 0] Recall score: 0.95580808, F1 score: 0.95371696, One-Over-Rest ROC: 0.99210506, One-Over-One ROC: 0.94464625\n",
      "[fold 1] Recall score: 0.95833333, F1 score: 0.95615531, One-Over-Rest ROC: 0.99158232, One-Over-One ROC: 0.95221178\n",
      "[fold 2] Recall score: 0.95833333, F1 score: 0.95631618, One-Over-Rest ROC: 0.99322421, One-Over-One ROC: 0.95143365\n",
      "[fold 3] Recall score: 0.95448799, F1 score: 0.95236188, One-Over-Rest ROC: 0.98777109, One-Over-One ROC: 0.92009571\n",
      "[fold 4] Recall score: 0.95828066, F1 score: 0.95615560, One-Over-Rest ROC: 0.98876919, One-Over-One ROC: 0.84324227\n",
      "[fold 5] Recall score: 0.97092288, F1 score: 0.96855879, One-Over-Rest ROC: 0.99271920, One-Over-One ROC: 0.92162452\n",
      "[fold 6] Recall score: 0.96207332, F1 score: 0.95978954, One-Over-Rest ROC: 0.99203857, One-Over-One ROC: 0.94966127\n",
      "[fold 7] Recall score: 0.95195954, F1 score: 0.95005744, One-Over-Rest ROC: 0.98765061, One-Over-One ROC: 0.84816863\n",
      "[fold 8] Recall score: 0.96713021, F1 score: 0.96482785, One-Over-Rest ROC: 0.98827610, One-Over-One ROC: 0.86876476\n",
      "[fold 9] Recall score: 0.95195954, F1 score: 0.94999612, One-Over-Rest ROC: 0.98734670, One-Over-One ROC: 0.85377606\n",
      "------------------------------------------------------------------------------------------------------------------------\n",
      "Classifier: Gradient Boosting\n",
      "[fold 0] Recall score: 0.96969697, F1 score: 0.96727193, One-Over-Rest ROC: 0.99632974, One-Over-One ROC: 0.98701165\n",
      "[fold 1] Recall score: 0.96338384, F1 score: 0.96232987, One-Over-Rest ROC: 0.99182267, One-Over-One ROC: 0.88243923\n",
      "[fold 2] Recall score: 0.96843434, F1 score: 0.96606983, One-Over-Rest ROC: 0.99534351, One-Over-One ROC: 0.93454165\n",
      "[fold 3] Recall score: 0.96207332, F1 score: 0.96144299, One-Over-Rest ROC: 0.98694887, One-Over-One ROC: 0.82557836\n",
      "[fold 4] Recall score: 0.96839444, F1 score: 0.96658371, One-Over-Rest ROC: 0.99416429, One-Over-One ROC: 0.92596796\n",
      "[fold 5] Recall score: 0.97092288, F1 score: 0.96967746, One-Over-Rest ROC: 0.99230184, One-Over-One ROC: 0.85998855\n",
      "[fold 6] Recall score: 0.96713021, F1 score: 0.96524457, One-Over-Rest ROC: 0.99532609, One-Over-One ROC: 0.96689741\n",
      "[fold 7] Recall score: 0.96207332, F1 score: 0.96042519, One-Over-Rest ROC: 0.99301377, One-Over-One ROC: 0.92929439\n",
      "[fold 8] Recall score: 0.97092288, F1 score: 0.96843752, One-Over-Rest ROC: 0.99143555, One-Over-One ROC: 0.86725822\n",
      "[fold 9] Recall score: 0.96713021, F1 score: 0.96618350, One-Over-Rest ROC: 0.99336117, One-Over-One ROC: 0.94865489\n"
     ]
    }
   ],
   "source": [
    "names = [\n",
    "    \"Nearest Neighbors\",\n",
    "    \"Logistic Regression\",\n",
    "    \"RBF SVM\",\n",
    "    \"Polynomial SVM\",\n",
    "    \"Neural Net\",\n",
    "    \"Gaussian Process\",\n",
    "    \"Gaussian Naive Bayes\",\n",
    "    \"Decision Tree\",\n",
    "    \"Random Forest\",\n",
    "    \"AdaBoost\",\n",
    "    \"Gradient Boosting\"\n",
    "]\n",
    "\n",
    "classifiers = [\n",
    "    KNeighborsClassifier(n_neighbors=20, weights=\"distance\", algorithm=\"auto\"),\n",
    "    LogisticRegression(penalty=\"l2\", solver=\"newton-cg\", class_weight=\"balanced\", \n",
    "                       dual=False, C=1.0, max_iter=5000),\n",
    "    SVC(kernel=\"rbf\", gamma=\"scale\", C=1.0, class_weight=\"balanced\", probability=True),\n",
    "    SVC(kernel=\"poly\", gamma=\"scale\", C=1.0, class_weight=\"balanced\", probability=True),\n",
    "    MLPClassifier(hidden_layer_sizes=(1000,1000,1000), activation=\"relu\", \n",
    "                  solver=\"adam\", alpha=0.0001, \n",
    "                  learning_rate=\"adaptive\", max_iter=2000),\n",
    "    GaussianProcessClassifier(kernel=1.0 * RBF(1.0)),\n",
    "    GaussianNB(),\n",
    "    DecisionTreeClassifier(criterion=\"gini\", max_depth=2, min_samples_leaf=20, \n",
    "                           class_weight=\"balanced\"),\n",
    "    RandomForestClassifier(criterion=\"gini\", max_depth=70, min_samples_leaf=1, \n",
    "                           min_samples_split=2, class_weight=\"balanced\", \n",
    "                           n_estimators=1000, max_features=1, bootstrap=False),\n",
    "    AdaBoostClassifier(n_estimators=500, learning_rate=0.01, algorithm='SAMME'),\n",
    "    GradientBoostingClassifier(loss=\"log_loss\", learning_rate=0.01, \n",
    "                               n_estimators=500, max_depth=1)\n",
    "]\n",
    "\n",
    "\n",
    "# k_fold = KFold(n_splits=10, shuffle=True, random_state=42)\n",
    "skf = StratifiedKFold(n_splits=10, shuffle=True, random_state=42)\n",
    "\n",
    "for name, clf in zip(names, classifiers):\n",
    "    # ds_cnt = 0 \n",
    "    # ax = plt.subplot(1, len(classifiers) + 1, 1)\n",
    "    clf = make_pipeline(StandardScaler(), clf)\n",
    "    print(\"-\" * 120)\n",
    "    print(\"Classifier: {0}\".format(name))\n",
    "    for k, (train, test) in enumerate(skf.split(FP_ARR, Y_ARR)):\n",
    "        X_train = FP_ARR[train]\n",
    "        y_train = Y_ARR[train]\n",
    "        X_test = FP_ARR[test]\n",
    "        y_test = Y_ARR[test]\n",
    "\n",
    "        clf.fit(X_train, y_train)\n",
    "        score = clf.score(X_test, y_test)\n",
    "        y_pred = clf.predict(X_test)\n",
    "        y_score = clf.predict_proba(X_test)\n",
    "\n",
    "        # acc_score = accuracy_score(y_test, y_pred, normalize=True)\n",
    "        # prec_score = precision_score(y_test, y_pred, average=\"weighted\")\n",
    "        rec_score = recall_score(y_test, y_pred, average=\"weighted\")\n",
    "        f_score = f1_score(y_test, y_pred, average=\"weighted\")\n",
    "        ovr_ROC = roc_auc_score(y_test, y_score, average=\"weighted\", multi_class=\"ovr\")\n",
    "        ovo_ROC = roc_auc_score(y_test, y_score, average=\"weighted\", multi_class=\"ovo\")\n",
    "        \n",
    "        '''\n",
    "        print(\n",
    "            \"[fold {0}] Classifier: {1}, Accuracy: {2:.8f}\".format(k, name, acc_score)\n",
    "        )\n",
    "        print(\"-\" * 80)\n",
    "        print(\n",
    "            \"Precision score: {0:.6f}, Recall score: {1:.6f}, f1 score: {2:.6f}\".format(\n",
    "                prec_score, rec_score, f_score)\n",
    "        )\n",
    "        '''\n",
    "        print(\n",
    "            \"[fold {0}] Recall score: {1:.8f}, F1 score: {2:.8f}, One-Over-Rest ROC: {3:.8f}, One-Over-One ROC: {4:.8f}\".format(\n",
    "                k, rec_score, f_score, ovr_ROC, ovo_ROC)\n",
    "        )\n",
    "        # print(\"-\" * 80)\n",
    "    "
   ]
  },
  {
   "cell_type": "code",
   "execution_count": null,
   "id": "8983a503",
   "metadata": {},
   "outputs": [],
   "source": []
  }
 ],
 "metadata": {
  "kernelspec": {
   "display_name": "Python 3 (ipykernel)",
   "language": "python",
   "name": "python3"
  },
  "language_info": {
   "codemirror_mode": {
    "name": "ipython",
    "version": 3
   },
   "file_extension": ".py",
   "mimetype": "text/x-python",
   "name": "python",
   "nbconvert_exporter": "python",
   "pygments_lexer": "ipython3",
   "version": "3.9.7"
  }
 },
 "nbformat": 4,
 "nbformat_minor": 5
}
