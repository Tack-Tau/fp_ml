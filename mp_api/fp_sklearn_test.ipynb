{
 "cells": [
  {
   "cell_type": "code",
   "execution_count": 1,
   "id": "8bfa7749",
   "metadata": {},
   "outputs": [],
   "source": [
    "%matplotlib inline\n",
    "%config InlineBackend.figure_format='retina'"
   ]
  },
  {
   "cell_type": "code",
   "execution_count": 2,
   "id": "fa88694b",
   "metadata": {},
   "outputs": [],
   "source": [
    "import matplotlib.pyplot as plt\n",
    "import numpy as np\n",
    "import pickle\n",
    "from matplotlib.colors import ListedColormap\n",
    "\n",
    "from sklearn.datasets import make_circles, make_classification, make_moons\n",
    "from sklearn.metrics import precision_score, recall_score, f1_score, accuracy_score, roc_auc_score\n",
    "from sklearn.linear_model import LogisticRegression\n",
    "from sklearn.naive_bayes import GaussianNB\n",
    "from sklearn.ensemble import AdaBoostClassifier, RandomForestClassifier, GradientBoostingClassifier\n",
    "from sklearn.gaussian_process import GaussianProcessClassifier\n",
    "from sklearn.gaussian_process.kernels import RBF\n",
    "from sklearn.inspection import DecisionBoundaryDisplay\n",
    "from sklearn.model_selection import train_test_split, KFold, StratifiedKFold\n",
    "from sklearn.neighbors import KNeighborsClassifier\n",
    "from sklearn.neural_network import MLPClassifier\n",
    "from sklearn.pipeline import make_pipeline\n",
    "from sklearn.preprocessing import StandardScaler\n",
    "from sklearn.svm import SVC\n",
    "from sklearn.tree import DecisionTreeClassifier"
   ]
  },
  {
   "cell_type": "code",
   "execution_count": 3,
   "id": "3a511f1d",
   "metadata": {},
   "outputs": [],
   "source": [
    "with open('mpid_bgap_info.pkl', 'rb') as f:\n",
    "    mpid_bgap_dict = pickle.load(f)\n",
    "    \n",
    "with open('mpid_fp_info.pkl', 'rb') as f:\n",
    "    mpid_fp_dict = pickle.load(f)"
   ]
  },
  {
   "cell_type": "code",
   "execution_count": 4,
   "id": "a7126079",
   "metadata": {},
   "outputs": [
    {
     "data": {
      "text/plain": [
       "({'Metality': False,\n",
       "  'Direct or not': False,\n",
       "  'Gap value (eV)': 1.8284999999999996},\n",
       " array([0.77061369, 0.2127183 , 0.2127183 , ..., 0.        , 0.        ,\n",
       "        0.        ]))"
      ]
     },
     "execution_count": 4,
     "metadata": {},
     "output_type": "execute_result"
    }
   ],
   "source": [
    "len(mpid_bgap_dict), len(mpid_fp_dict)\n",
    "mpid_bgap_dict['mp-5827'], mpid_fp_dict['mp-2929']"
   ]
  },
  {
   "cell_type": "code",
   "execution_count": 5,
   "id": "1549c882",
   "metadata": {},
   "outputs": [
    {
     "data": {
      "text/plain": [
       "((6000,), (6000,))"
      ]
     },
     "execution_count": 5,
     "metadata": {},
     "output_type": "execute_result"
    }
   ],
   "source": [
    "mpid_fp_dict['mp-5827'].shape, mpid_fp_dict['mp-2929'].shape"
   ]
  },
  {
   "cell_type": "code",
   "execution_count": 6,
   "id": "636d55f2",
   "metadata": {},
   "outputs": [],
   "source": [
    "fp_list = []\n",
    "band_info_list = []\n",
    "for mat_id in mpid_bgap_dict:\n",
    "    if mpid_bgap_dict[mat_id]['Metality'] == True:\n",
    "        band_info_list.append(int(0))\n",
    "        fp_list.append(mpid_fp_dict[mat_id].tolist())\n",
    "    else:\n",
    "        if mpid_bgap_dict[mat_id]['Direct or not'] == False:\n",
    "            band_info_list.append(int(1))\n",
    "            fp_list.append(mpid_fp_dict[mat_id].tolist())\n",
    "        else:\n",
    "            band_info_list.append(int(2))\n",
    "            fp_list.append(mpid_fp_dict[mat_id].tolist())\n",
    "            \n",
    "            \n"
   ]
  },
  {
   "cell_type": "code",
   "execution_count": 7,
   "id": "323f8457",
   "metadata": {},
   "outputs": [],
   "source": [
    "FP_ARR = np.array(fp_list, dtype=float)\n",
    "Y_ARR = np.array(band_info_list, dtype=float)"
   ]
  },
  {
   "cell_type": "code",
   "execution_count": 8,
   "id": "2c7e3f4e",
   "metadata": {},
   "outputs": [
    {
     "data": {
      "text/plain": [
       "((968, 6000), (968,))"
      ]
     },
     "execution_count": 8,
     "metadata": {},
     "output_type": "execute_result"
    }
   ],
   "source": [
    "FP_ARR.shape, Y_ARR.shape"
   ]
  },
  {
   "cell_type": "code",
   "execution_count": 9,
   "id": "1e8d6e2e",
   "metadata": {},
   "outputs": [
    {
     "name": "stdout",
     "output_type": "stream",
     "text": [
      "------------------------------------------------------------------------------------------------------------------------\n",
      "Classifier: Nearest Neighbors\n",
      "[fold 0] Recall score: 0.82474227, F1 score: 0.75699558, One-Over-Rest ROC: 0.61846047, One-Over-One ROC: 0.73061487\n",
      "[fold 1] Recall score: 0.83505155, F1 score: 0.76522962, One-Over-Rest ROC: 0.62697985, One-Over-One ROC: 0.73199098\n",
      "[fold 2] Recall score: 0.83505155, F1 score: 0.78240905, One-Over-Rest ROC: 0.61122714, One-Over-One ROC: 0.64927359\n",
      "[fold 3] Recall score: 0.82474227, F1 score: 0.75456063, One-Over-Rest ROC: 0.60531829, One-Over-One ROC: 0.66141862\n",
      "[fold 4] Recall score: 0.81443299, F1 score: 0.74667615, One-Over-Rest ROC: 0.89859694, One-Over-One ROC: 0.87379290\n",
      "[fold 5] Recall score: 0.81443299, F1 score: 0.74822254, One-Over-Rest ROC: 0.62979487, One-Over-One ROC: 0.62627468\n",
      "[fold 6] Recall score: 0.81443299, F1 score: 0.76267646, One-Over-Rest ROC: 0.66325896, One-Over-One ROC: 0.72716183\n",
      "[fold 7] Recall score: 0.80412371, F1 score: 0.74045051, One-Over-Rest ROC: 0.57094056, One-Over-One ROC: 0.61242986\n",
      "[fold 8] Recall score: 0.82291667, F1 score: 0.74297619, One-Over-Rest ROC: 0.58992593, One-Over-One ROC: 0.63962587\n",
      "[fold 9] Recall score: 0.81250000, F1 score: 0.73778736, One-Over-Rest ROC: 0.55993894, One-Over-One ROC: 0.63241497\n",
      "------------------------------------------------------------------------------------------------------------------------\n",
      "Classifier: Logistic Regression\n",
      "[fold 0] Recall score: 0.55670103, F1 score: 0.62144923, One-Over-Rest ROC: 0.56181090, One-Over-One ROC: 0.66266722\n",
      "[fold 1] Recall score: 0.53608247, F1 score: 0.59688182, One-Over-Rest ROC: 0.68908293, One-Over-One ROC: 0.80312960\n",
      "[fold 2] Recall score: 0.52577320, F1 score: 0.59866610, One-Over-Rest ROC: 0.59660279, One-Over-One ROC: 0.62808665\n",
      "[fold 3] Recall score: 0.56701031, F1 score: 0.63035297, One-Over-Rest ROC: 0.64470297, One-Over-One ROC: 0.66083080\n",
      "[fold 4] Recall score: 0.53608247, F1 score: 0.59712957, One-Over-Rest ROC: 0.70802487, One-Over-One ROC: 0.76339577\n",
      "[fold 5] Recall score: 0.48453608, F1 score: 0.54124356, One-Over-Rest ROC: 0.54528256, One-Over-One ROC: 0.63241970\n",
      "[fold 6] Recall score: 0.56701031, F1 score: 0.62866312, One-Over-Rest ROC: 0.70194023, One-Over-One ROC: 0.73302022\n",
      "[fold 7] Recall score: 0.46391753, F1 score: 0.53895539, One-Over-Rest ROC: 0.57740103, One-Over-One ROC: 0.62496846\n",
      "[fold 8] Recall score: 0.55208333, F1 score: 0.61380876, One-Over-Rest ROC: 0.70545064, One-Over-One ROC: 0.74694061\n",
      "[fold 9] Recall score: 0.54166667, F1 score: 0.60856835, One-Over-Rest ROC: 0.59223292, One-Over-One ROC: 0.61896207\n",
      "------------------------------------------------------------------------------------------------------------------------\n",
      "Classifier: RBF SVM\n",
      "[fold 0] Recall score: 0.48453608, F1 score: 0.55779735, One-Over-Rest ROC: 0.53376216, One-Over-One ROC: 0.62672895\n",
      "[fold 1] Recall score: 0.48453608, F1 score: 0.54754436, One-Over-Rest ROC: 0.50377273, One-Over-One ROC: 0.55946244\n",
      "[fold 2] Recall score: 0.19587629, F1 score: 0.22778747, One-Over-Rest ROC: 0.57444764, One-Over-One ROC: 0.60533260\n",
      "[fold 3] Recall score: 0.38144330, F1 score: 0.45720875, One-Over-Rest ROC: 0.55917640, One-Over-One ROC: 0.67258837\n",
      "[fold 4] Recall score: 0.38144330, F1 score: 0.46174856, One-Over-Rest ROC: 0.54820657, One-Over-One ROC: 0.63880124\n",
      "[fold 5] Recall score: 0.44329897, F1 score: 0.52561518, One-Over-Rest ROC: 0.57054312, One-Over-One ROC: 0.55919446\n",
      "[fold 6] Recall score: 0.45360825, F1 score: 0.53731566, One-Over-Rest ROC: 0.57068959, One-Over-One ROC: 0.61658526\n",
      "[fold 7] Recall score: 0.45360825, F1 score: 0.53952964, One-Over-Rest ROC: 0.60311745, One-Over-One ROC: 0.72138849\n",
      "[fold 8] Recall score: 0.55208333, F1 score: 0.62519841, One-Over-Rest ROC: 0.55715017, One-Over-One ROC: 0.53378039\n",
      "[fold 9] Recall score: 0.44791667, F1 score: 0.51382275, One-Over-Rest ROC: 0.48321283, One-Over-One ROC: 0.52390449\n",
      "------------------------------------------------------------------------------------------------------------------------\n",
      "Classifier: Polynomial SVM\n",
      "[fold 0] Recall score: 0.78350515, F1 score: 0.73033098, One-Over-Rest ROC: 0.54273484, One-Over-One ROC: 0.65567164\n",
      "[fold 1] Recall score: 0.79381443, F1 score: 0.73915128, One-Over-Rest ROC: 0.45259018, One-Over-One ROC: 0.51158873\n",
      "[fold 2] Recall score: 0.76288660, F1 score: 0.75807560, One-Over-Rest ROC: 0.53765420, One-Over-One ROC: 0.58476467\n",
      "[fold 3] Recall score: 0.81443299, F1 score: 0.77010632, One-Over-Rest ROC: 0.50364500, One-Over-One ROC: 0.59602030\n",
      "[fold 4] Recall score: 0.77319588, F1 score: 0.72851411, One-Over-Rest ROC: 0.61108996, One-Over-One ROC: 0.70112181\n",
      "[fold 5] Recall score: 0.77319588, F1 score: 0.71861734, One-Over-Rest ROC: 0.53890654, One-Over-One ROC: 0.51185194\n",
      "[fold 6] Recall score: 0.82474227, F1 score: 0.75929034, One-Over-Rest ROC: 0.54655647, One-Over-One ROC: 0.56422443\n",
      "[fold 7] Recall score: 0.80412371, F1 score: 0.75244256, One-Over-Rest ROC: 0.49967544, One-Over-One ROC: 0.61526382\n",
      "[fold 8] Recall score: 0.81250000, F1 score: 0.73778736, One-Over-Rest ROC: 0.55937232, One-Over-One ROC: 0.52225315\n",
      "[fold 9] Recall score: 0.77083333, F1 score: 0.71642157, One-Over-Rest ROC: 0.48713452, One-Over-One ROC: 0.54220116\n",
      "------------------------------------------------------------------------------------------------------------------------\n",
      "Classifier: Neural Net\n",
      "[fold 0] Recall score: 0.81443299, F1 score: 0.75179524, One-Over-Rest ROC: 0.66854109, One-Over-One ROC: 0.68708425\n",
      "[fold 1] Recall score: 0.82474227, F1 score: 0.80264214, One-Over-Rest ROC: 0.63868542, One-Over-One ROC: 0.75860641\n",
      "[fold 2] Recall score: 0.82474227, F1 score: 0.76864061, One-Over-Rest ROC: 0.67565103, One-Over-One ROC: 0.71351405\n",
      "[fold 3] Recall score: 0.81443299, F1 score: 0.77210850, One-Over-Rest ROC: 0.63194169, One-Over-One ROC: 0.67590905\n",
      "[fold 4] Recall score: 0.79381443, F1 score: 0.78964845, One-Over-Rest ROC: 0.73387175, One-Over-One ROC: 0.76026384\n",
      "[fold 5] Recall score: 0.77319588, F1 score: 0.73402285, One-Over-Rest ROC: 0.65103981, One-Over-One ROC: 0.67656154\n",
      "[fold 6] Recall score: 0.81443299, F1 score: 0.80694334, One-Over-Rest ROC: 0.72951444, One-Over-One ROC: 0.79005681\n",
      "[fold 7] Recall score: 0.81443299, F1 score: 0.76184768, One-Over-Rest ROC: 0.55359318, One-Over-One ROC: 0.60363435\n",
      "[fold 8] Recall score: 0.71875000, F1 score: 0.69875809, One-Over-Rest ROC: 0.61321305, One-Over-One ROC: 0.65276365\n",
      "[fold 9] Recall score: 0.78125000, F1 score: 0.73524408, One-Over-Rest ROC: 0.65515805, One-Over-One ROC: 0.68827937\n",
      "------------------------------------------------------------------------------------------------------------------------\n",
      "Classifier: Gaussian Process\n",
      "[fold 0] Recall score: 0.82474227, F1 score: 0.74552973, One-Over-Rest ROC: 0.55265385, One-Over-One ROC: 0.64711662\n",
      "[fold 1] Recall score: 0.82474227, F1 score: 0.74552973, One-Over-Rest ROC: 0.52096771, One-Over-One ROC: 0.59554645\n",
      "[fold 2] Recall score: 0.82474227, F1 score: 0.74552973, One-Over-Rest ROC: 0.60182595, One-Over-One ROC: 0.62665838\n",
      "[fold 3] Recall score: 0.81443299, F1 score: 0.73113871, One-Over-Rest ROC: 0.50630846, One-Over-One ROC: 0.56229610\n",
      "[fold 4] Recall score: 0.81443299, F1 score: 0.73113871, One-Over-Rest ROC: 0.59246408, One-Over-One ROC: 0.66262863\n",
      "[fold 5] Recall score: 0.81443299, F1 score: 0.73113871, One-Over-Rest ROC: 0.59789619, One-Over-One ROC: 0.60673272\n",
      "[fold 6] Recall score: 0.81443299, F1 score: 0.73113871, One-Over-Rest ROC: 0.63851226, One-Over-One ROC: 0.68348372\n",
      "[fold 7] Recall score: 0.81443299, F1 score: 0.73113871, One-Over-Rest ROC: 0.58846940, One-Over-One ROC: 0.68176954\n",
      "[fold 8] Recall score: 0.82291667, F1 score: 0.74297619, One-Over-Rest ROC: 0.60594472, One-Over-One ROC: 0.63038689\n",
      "[fold 9] Recall score: 0.82291667, F1 score: 0.74297619, One-Over-Rest ROC: 0.49223848, One-Over-One ROC: 0.50826929\n",
      "------------------------------------------------------------------------------------------------------------------------\n",
      "Classifier: Gaussian Naive Bayes\n",
      "[fold 0] Recall score: 0.06185567, F1 score: 0.06155291, One-Over-Rest ROC: 0.51438304, One-Over-One ROC: 0.51087307\n",
      "[fold 1] Recall score: 0.05154639, F1 score: 0.04214439, One-Over-Rest ROC: 0.50906389, One-Over-One ROC: 0.50668492\n",
      "[fold 2] Recall score: 0.06185567, F1 score: 0.04323246, One-Over-Rest ROC: 0.51829230, One-Over-One ROC: 0.53748849\n",
      "[fold 3] Recall score: 0.15463918, F1 score: 0.21361366, One-Over-Rest ROC: 0.49128773, One-Over-One ROC: 0.48509885\n"
     ]
    },
    {
     "name": "stdout",
     "output_type": "stream",
     "text": [
      "[fold 4] Recall score: 0.10309278, F1 score: 0.11247064, One-Over-Rest ROC: 0.52733381, One-Over-One ROC: 0.53495694\n",
      "[fold 5] Recall score: 0.07216495, F1 score: 0.06063533, One-Over-Rest ROC: 0.51483353, One-Over-One ROC: 0.51999753\n",
      "[fold 6] Recall score: 0.06185567, F1 score: 0.04293710, One-Over-Rest ROC: 0.51075269, One-Over-One ROC: 0.51609893\n",
      "[fold 7] Recall score: 0.05154639, F1 score: 0.04120312, One-Over-Rest ROC: 0.46494263, One-Over-One ROC: 0.49516290\n",
      "[fold 8] Recall score: 0.03125000, F1 score: 0.00191327, One-Over-Rest ROC: 0.49927878, One-Over-One ROC: 0.49981870\n",
      "[fold 9] Recall score: 0.05208333, F1 score: 0.04263254, One-Over-Rest ROC: 0.50858904, One-Over-One ROC: 0.50792787\n",
      "------------------------------------------------------------------------------------------------------------------------\n",
      "Classifier: Decision Tree\n",
      "[fold 0] Recall score: 0.10309278, F1 score: 0.03664935, One-Over-Rest ROC: 0.52735899, One-Over-One ROC: 0.59334499\n",
      "[fold 1] Recall score: 0.11340206, F1 score: 0.04439963, One-Over-Rest ROC: 0.48509339, One-Over-One ROC: 0.49708211\n",
      "[fold 2] Recall score: 0.22680412, F1 score: 0.29037400, One-Over-Rest ROC: 0.60832826, One-Over-One ROC: 0.59787985\n",
      "[fold 3] Recall score: 0.54639175, F1 score: 0.58468127, One-Over-Rest ROC: 0.53010412, One-Over-One ROC: 0.64236195\n",
      "[fold 4] Recall score: 0.53608247, F1 score: 0.60489041, One-Over-Rest ROC: 0.54903329, One-Over-One ROC: 0.66896474\n",
      "[fold 5] Recall score: 0.08247423, F1 score: 0.02742798, One-Over-Rest ROC: 0.57437254, One-Over-One ROC: 0.52622295\n",
      "[fold 6] Recall score: 0.50515464, F1 score: 0.55879209, One-Over-Rest ROC: 0.56856959, One-Over-One ROC: 0.68675314\n",
      "[fold 7] Recall score: 0.47422680, F1 score: 0.55824998, One-Over-Rest ROC: 0.54891780, One-Over-One ROC: 0.69403628\n",
      "[fold 8] Recall score: 0.10416667, F1 score: 0.03352713, One-Over-Rest ROC: 0.61616473, One-Over-One ROC: 0.66910601\n",
      "[fold 9] Recall score: 0.45833333, F1 score: 0.54253906, One-Over-Rest ROC: 0.54519537, One-Over-One ROC: 0.54656420\n",
      "------------------------------------------------------------------------------------------------------------------------\n",
      "Classifier: Random Forest\n",
      "[fold 0] Recall score: 0.77319588, F1 score: 0.72684744, One-Over-Rest ROC: 0.53169337, One-Over-One ROC: 0.68327120\n",
      "[fold 1] Recall score: 0.82474227, F1 score: 0.78719479, One-Over-Rest ROC: 0.59102415, One-Over-One ROC: 0.68981345\n",
      "[fold 2] Recall score: 0.82474227, F1 score: 0.79223481, One-Over-Rest ROC: 0.60753972, One-Over-One ROC: 0.62755814\n",
      "[fold 3] Recall score: 0.81443299, F1 score: 0.78112162, One-Over-Rest ROC: 0.59367700, One-Over-One ROC: 0.64286821\n",
      "[fold 4] Recall score: 0.82474227, F1 score: 0.79230159, One-Over-Rest ROC: 0.80818852, One-Over-One ROC: 0.82901372\n",
      "[fold 5] Recall score: 0.75257732, F1 score: 0.72073862, One-Over-Rest ROC: 0.60019504, One-Over-One ROC: 0.63780445\n",
      "[fold 6] Recall score: 0.77319588, F1 score: 0.74746285, One-Over-Rest ROC: 0.65341512, One-Over-One ROC: 0.70021066\n",
      "[fold 7] Recall score: 0.74226804, F1 score: 0.70282116, One-Over-Rest ROC: 0.48879922, One-Over-One ROC: 0.56935708\n",
      "[fold 8] Recall score: 0.76041667, F1 score: 0.71515377, One-Over-Rest ROC: 0.48565714, One-Over-One ROC: 0.56810351\n",
      "[fold 9] Recall score: 0.80208333, F1 score: 0.76137529, One-Over-Rest ROC: 0.56237281, One-Over-One ROC: 0.60501353\n",
      "------------------------------------------------------------------------------------------------------------------------\n",
      "Classifier: AdaBoost\n",
      "[fold 0] Recall score: 0.82474227, F1 score: 0.74552973, One-Over-Rest ROC: 0.61704728, One-Over-One ROC: 0.67794551\n",
      "[fold 1] Recall score: 0.82474227, F1 score: 0.74552973, One-Over-Rest ROC: 0.51464568, One-Over-One ROC: 0.56443606\n",
      "[fold 2] Recall score: 0.82474227, F1 score: 0.74552973, One-Over-Rest ROC: 0.50107804, One-Over-One ROC: 0.55469440\n",
      "[fold 3] Recall score: 0.81443299, F1 score: 0.73113871, One-Over-Rest ROC: 0.53098081, One-Over-One ROC: 0.59208791\n",
      "[fold 4] Recall score: 0.81443299, F1 score: 0.73113871, One-Over-Rest ROC: 0.60492630, One-Over-One ROC: 0.65310583\n",
      "[fold 5] Recall score: 0.81443299, F1 score: 0.73113871, One-Over-Rest ROC: 0.55216554, One-Over-One ROC: 0.51412516\n",
      "[fold 6] Recall score: 0.81443299, F1 score: 0.73113871, One-Over-Rest ROC: 0.54712888, One-Over-One ROC: 0.60882417\n",
      "[fold 7] Recall score: 0.81443299, F1 score: 0.73113871, One-Over-Rest ROC: 0.53653365, One-Over-One ROC: 0.59183523\n",
      "[fold 8] Recall score: 0.82291667, F1 score: 0.74297619, One-Over-Rest ROC: 0.36192626, One-Over-One ROC: 0.36652900\n",
      "[fold 9] Recall score: 0.82291667, F1 score: 0.74297619, One-Over-Rest ROC: 0.57610297, One-Over-One ROC: 0.61170525\n",
      "------------------------------------------------------------------------------------------------------------------------\n",
      "Classifier: Gradient Boosting\n",
      "[fold 0] Recall score: 0.81443299, F1 score: 0.76651254, One-Over-Rest ROC: 0.67216007, One-Over-One ROC: 0.73811825\n",
      "[fold 1] Recall score: 0.82474227, F1 score: 0.75699558, One-Over-Rest ROC: 0.63187694, One-Over-One ROC: 0.67310076\n",
      "[fold 2] Recall score: 0.84536082, F1 score: 0.78044046, One-Over-Rest ROC: 0.53798357, One-Over-One ROC: 0.59944925\n",
      "[fold 3] Recall score: 0.81443299, F1 score: 0.74822254, One-Over-Rest ROC: 0.61343356, One-Over-One ROC: 0.66194585\n",
      "[fold 4] Recall score: 0.83505155, F1 score: 0.77528143, One-Over-Rest ROC: 0.78080441, One-Over-One ROC: 0.80073661\n",
      "[fold 5] Recall score: 0.83505155, F1 score: 0.77562507, One-Over-Rest ROC: 0.53421657, One-Over-One ROC: 0.55489388\n",
      "[fold 6] Recall score: 0.84536082, F1 score: 0.79055281, One-Over-Rest ROC: 0.60403325, One-Over-One ROC: 0.67215143\n",
      "[fold 7] Recall score: 0.81443299, F1 score: 0.74564522, One-Over-Rest ROC: 0.53962590, One-Over-One ROC: 0.62349384\n",
      "[fold 8] Recall score: 0.82291667, F1 score: 0.74297619, One-Over-Rest ROC: 0.63438755, One-Over-One ROC: 0.59804319\n",
      "[fold 9] Recall score: 0.82291667, F1 score: 0.74297619, One-Over-Rest ROC: 0.55676441, One-Over-One ROC: 0.61002722\n"
     ]
    }
   ],
   "source": [
    "names = [\n",
    "    \"Nearest Neighbors\",\n",
    "    \"Logistic Regression\",\n",
    "    \"RBF SVM\",\n",
    "    \"Polynomial SVM\",\n",
    "    \"Neural Net\",\n",
    "    \"Gaussian Process\",\n",
    "    \"Gaussian Naive Bayes\",\n",
    "    \"Decision Tree\",\n",
    "    \"Random Forest\",\n",
    "    \"AdaBoost\",\n",
    "    \"Gradient Boosting\"\n",
    "]\n",
    "\n",
    "classifiers = [\n",
    "    KNeighborsClassifier(n_neighbors=20, weights=\"distance\", algorithm=\"auto\"),\n",
    "    LogisticRegression(penalty=\"l2\", solver=\"newton-cg\", class_weight=\"balanced\", \n",
    "                       dual=False, C=1.0, max_iter=5000),\n",
    "    SVC(kernel=\"rbf\", gamma=\"scale\", C=1.0, class_weight=\"balanced\", probability=True),\n",
    "    SVC(kernel=\"poly\", gamma=\"scale\", C=1.0, class_weight=\"balanced\", probability=True),\n",
    "    MLPClassifier(hidden_layer_sizes=(1000,1000,1000), activation=\"relu\", \n",
    "                  solver=\"adam\", alpha=0.0001, \n",
    "                  learning_rate=\"adaptive\", max_iter=2000),\n",
    "    GaussianProcessClassifier(kernel=1.0 * RBF(length_scale=1.0, \n",
    "                                               length_scale_bounds=(1.0E-5, 1.0E8))),\n",
    "    GaussianNB(),\n",
    "    DecisionTreeClassifier(criterion=\"gini\", max_depth=2, min_samples_leaf=20, \n",
    "                           class_weight=\"balanced\"),\n",
    "    RandomForestClassifier(criterion=\"gini\", max_depth=70, min_samples_leaf=1, \n",
    "                           min_samples_split=2, class_weight=\"balanced\", \n",
    "                           n_estimators=1000, max_features=1, bootstrap=False),\n",
    "    AdaBoostClassifier(n_estimators=500, learning_rate=0.01, algorithm='SAMME'),\n",
    "    GradientBoostingClassifier(loss=\"log_loss\", learning_rate=0.01, \n",
    "                               n_estimators=500, max_depth=1)\n",
    "]\n",
    "\n",
    "\n",
    "# k_fold = KFold(n_splits=10, shuffle=True, random_state=42)\n",
    "skf = StratifiedKFold(n_splits=10, shuffle=True, random_state=42)\n",
    "\n",
    "for name, clf in zip(names, classifiers):\n",
    "    # ds_cnt = 0 \n",
    "    # ax = plt.subplot(1, len(classifiers) + 1, 1)\n",
    "    clf = make_pipeline(StandardScaler(), clf)\n",
    "    print(\"-\" * 120)\n",
    "    print(\"Classifier: {0}\".format(name))\n",
    "    for k, (train, test) in enumerate(skf.split(FP_ARR, Y_ARR)):\n",
    "        X_train = FP_ARR[train]\n",
    "        y_train = Y_ARR[train]\n",
    "        X_test = FP_ARR[test]\n",
    "        y_test = Y_ARR[test]\n",
    "\n",
    "        clf.fit(X_train, y_train)\n",
    "        score = clf.score(X_test, y_test)\n",
    "        y_pred = clf.predict(X_test)\n",
    "        y_score = clf.predict_proba(X_test)\n",
    "\n",
    "        # acc_score = accuracy_score(y_test, y_pred, normalize=True)\n",
    "        # prec_score = precision_score(y_test, y_pred, average=\"weighted\")\n",
    "        rec_score = recall_score(y_test, y_pred, average=\"weighted\")\n",
    "        f_score = f1_score(y_test, y_pred, average=\"weighted\")\n",
    "        ovr_ROC = roc_auc_score(y_test, y_score, average=\"weighted\", multi_class=\"ovr\")\n",
    "        ovo_ROC = roc_auc_score(y_test, y_score, average=\"weighted\", multi_class=\"ovo\")\n",
    "        \n",
    "        '''\n",
    "        print(\n",
    "            \"[fold {0}] Classifier: {1}, Accuracy: {2:.8f}\".format(k, name, acc_score)\n",
    "        )\n",
    "        print(\"-\" * 80)\n",
    "        print(\n",
    "            \"Precision score: {0:.6f}, Recall score: {1:.6f}, f1 score: {2:.6f}\".format(\n",
    "                prec_score, rec_score, f_score)\n",
    "        )\n",
    "        '''\n",
    "        print(\n",
    "            \"[fold {0}] Recall score: {1:.8f}, F1 score: {2:.8f}, One-Over-Rest ROC: {3:.8f}, One-Over-One ROC: {4:.8f}\".format(\n",
    "                k, rec_score, f_score, ovr_ROC, ovo_ROC)\n",
    "        )\n",
    "        # print(\"-\" * 80)\n",
    "    "
   ]
  },
  {
   "cell_type": "code",
   "execution_count": null,
   "id": "8983a503",
   "metadata": {},
   "outputs": [],
   "source": []
  }
 ],
 "metadata": {
  "kernelspec": {
   "display_name": "Python 3 (ipykernel)",
   "language": "python",
   "name": "python3"
  },
  "language_info": {
   "codemirror_mode": {
    "name": "ipython",
    "version": 3
   },
   "file_extension": ".py",
   "mimetype": "text/x-python",
   "name": "python",
   "nbconvert_exporter": "python",
   "pygments_lexer": "ipython3",
   "version": "3.9.7"
  }
 },
 "nbformat": 4,
 "nbformat_minor": 5
}
