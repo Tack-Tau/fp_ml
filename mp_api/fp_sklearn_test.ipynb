{
 "cells": [
  {
   "cell_type": "code",
   "execution_count": 1,
   "id": "8bfa7749",
   "metadata": {},
   "outputs": [],
   "source": [
    "%matplotlib inline\n",
    "%config InlineBackend.figure_format='retina'"
   ]
  },
  {
   "cell_type": "code",
   "execution_count": 2,
   "id": "fa88694b",
   "metadata": {},
   "outputs": [],
   "source": [
    "import matplotlib.pyplot as plt\n",
    "import numpy as np\n",
    "import pickle\n",
    "from matplotlib.colors import ListedColormap\n",
    "\n",
    "from sklearn.datasets import make_circles, make_classification, make_moons\n",
    "from sklearn.metrics import precision_score, recall_score, f1_score, accuracy_score, roc_auc_score\n",
    "from sklearn.linear_model import LogisticRegression\n",
    "from sklearn.naive_bayes import GaussianNB\n",
    "from sklearn.ensemble import AdaBoostClassifier, RandomForestClassifier, GradientBoostingClassifier\n",
    "from sklearn.gaussian_process import GaussianProcessClassifier\n",
    "from sklearn.gaussian_process.kernels import RBF\n",
    "from sklearn.inspection import DecisionBoundaryDisplay\n",
    "from sklearn.model_selection import train_test_split, KFold, StratifiedKFold\n",
    "from sklearn.neighbors import KNeighborsClassifier\n",
    "from sklearn.neural_network import MLPClassifier\n",
    "from sklearn.pipeline import make_pipeline\n",
    "from sklearn.preprocessing import StandardScaler\n",
    "from sklearn.svm import SVC\n",
    "from sklearn.tree import DecisionTreeClassifier"
   ]
  },
  {
   "cell_type": "code",
   "execution_count": 3,
   "id": "3a511f1d",
   "metadata": {},
   "outputs": [],
   "source": [
    "with open('mpid_bgap_info.pkl', 'rb') as f:\n",
    "    mpid_bgap_dict = pickle.load(f)\n",
    "    \n",
    "with open('mpid_fp_info.pkl', 'rb') as f:\n",
    "    mpid_fp_dict = pickle.load(f)"
   ]
  },
  {
   "cell_type": "code",
   "execution_count": 4,
   "id": "a7126079",
   "metadata": {},
   "outputs": [
    {
     "data": {
      "text/plain": [
       "({'Metality': False,\n",
       "  'Direct or not': False,\n",
       "  'Gap value (eV)': 1.8237999999999999},\n",
       " array([0.7279952 , 0.26307087, 0.25634488, ..., 0.        , 0.        ,\n",
       "        0.        ]))"
      ]
     },
     "execution_count": 4,
     "metadata": {},
     "output_type": "execute_result"
    }
   ],
   "source": [
    "len(mpid_bgap_dict), len(mpid_fp_dict)\n",
    "mpid_bgap_dict['mp-4748'], mpid_fp_dict['mp-3378']"
   ]
  },
  {
   "cell_type": "code",
   "execution_count": 5,
   "id": "1549c882",
   "metadata": {},
   "outputs": [
    {
     "data": {
      "text/plain": [
       "((72000,), (72000,))"
      ]
     },
     "execution_count": 5,
     "metadata": {},
     "output_type": "execute_result"
    }
   ],
   "source": [
    "mpid_fp_dict['mp-4748'].shape, mpid_fp_dict['mp-3378'].shape"
   ]
  },
  {
   "cell_type": "code",
   "execution_count": 6,
   "id": "636d55f2",
   "metadata": {},
   "outputs": [],
   "source": [
    "fp_list = []\n",
    "band_info_list = []\n",
    "for mat_id in mpid_bgap_dict:\n",
    "    if mpid_bgap_dict[mat_id]['Metality'] == True:\n",
    "        band_info_list.append(int(0))\n",
    "        fp_list.append(mpid_fp_dict[mat_id].tolist())\n",
    "    else:\n",
    "        if mpid_bgap_dict[mat_id]['Direct or not'] == False:\n",
    "            band_info_list.append(int(1))\n",
    "            fp_list.append(mpid_fp_dict[mat_id].tolist())\n",
    "        else:\n",
    "            band_info_list.append(int(2))\n",
    "            fp_list.append(mpid_fp_dict[mat_id].tolist())\n",
    "            \n",
    "            \n"
   ]
  },
  {
   "cell_type": "code",
   "execution_count": 7,
   "id": "323f8457",
   "metadata": {},
   "outputs": [],
   "source": [
    "FP_ARR = np.array(fp_list, dtype=float)\n",
    "Y_ARR = np.array(band_info_list, dtype=float)"
   ]
  },
  {
   "cell_type": "code",
   "execution_count": 8,
   "id": "2c7e3f4e",
   "metadata": {},
   "outputs": [
    {
     "data": {
      "text/plain": [
       "((2488, 72000), (2488,))"
      ]
     },
     "execution_count": 8,
     "metadata": {},
     "output_type": "execute_result"
    }
   ],
   "source": [
    "FP_ARR.shape, Y_ARR.shape"
   ]
  },
  {
   "cell_type": "code",
   "execution_count": 9,
   "id": "1e8d6e2e",
   "metadata": {},
   "outputs": [
    {
     "name": "stdout",
     "output_type": "stream",
     "text": [
      "------------------------------------------------------------------------------------------------------------------------\n",
      "Classifier: Nearest Neighbors\n",
      "[fold 0] Recall score: 0.63453815, F1 score: 0.62455319, One-Over-Rest ROC: 0.79503161, One-Over-One ROC: 0.79635318\n",
      "[fold 1] Recall score: 0.65060241, F1 score: 0.64821958, One-Over-Rest ROC: 0.80300732, One-Over-One ROC: 0.79555843\n",
      "[fold 2] Recall score: 0.69879518, F1 score: 0.68357424, One-Over-Rest ROC: 0.83076154, One-Over-One ROC: 0.80858889\n",
      "[fold 3] Recall score: 0.68674699, F1 score: 0.68022198, One-Over-Rest ROC: 0.82079616, One-Over-One ROC: 0.81396637\n",
      "[fold 4] Recall score: 0.63855422, F1 score: 0.63430254, One-Over-Rest ROC: 0.81354205, One-Over-One ROC: 0.80667520\n",
      "[fold 5] Recall score: 0.69477912, F1 score: 0.68112429, One-Over-Rest ROC: 0.81805262, One-Over-One ROC: 0.79059609\n",
      "[fold 6] Recall score: 0.64257028, F1 score: 0.63563302, One-Over-Rest ROC: 0.81418917, One-Over-One ROC: 0.79930955\n",
      "[fold 7] Recall score: 0.65863454, F1 score: 0.65227656, One-Over-Rest ROC: 0.80726123, One-Over-One ROC: 0.78935334\n",
      "[fold 8] Recall score: 0.64919355, F1 score: 0.64271886, One-Over-Rest ROC: 0.78561875, One-Over-One ROC: 0.76838462\n",
      "[fold 9] Recall score: 0.63709677, F1 score: 0.63111170, One-Over-Rest ROC: 0.79381592, One-Over-One ROC: 0.77885753\n",
      "------------------------------------------------------------------------------------------------------------------------\n",
      "Classifier: Logistic Regression\n",
      "[fold 0] Recall score: 0.63855422, F1 score: 0.63154617, One-Over-Rest ROC: 0.75253469, One-Over-One ROC: 0.73745285\n",
      "[fold 1] Recall score: 0.65461847, F1 score: 0.65117315, One-Over-Rest ROC: 0.74939275, One-Over-One ROC: 0.74322375\n",
      "[fold 2] Recall score: 0.63855422, F1 score: 0.63766555, One-Over-Rest ROC: 0.73399523, One-Over-One ROC: 0.71365747\n",
      "[fold 3] Recall score: 0.64257028, F1 score: 0.64591424, One-Over-Rest ROC: 0.75218864, One-Over-One ROC: 0.75476142\n",
      "[fold 4] Recall score: 0.67068273, F1 score: 0.67196305, One-Over-Rest ROC: 0.76647884, One-Over-One ROC: 0.75609238\n",
      "[fold 5] Recall score: 0.60240964, F1 score: 0.60273467, One-Over-Rest ROC: 0.70625283, One-Over-One ROC: 0.68143745\n",
      "[fold 6] Recall score: 0.62650602, F1 score: 0.62954183, One-Over-Rest ROC: 0.71720712, One-Over-One ROC: 0.68434121\n",
      "[fold 7] Recall score: 0.61847390, F1 score: 0.61879842, One-Over-Rest ROC: 0.69287096, One-Over-One ROC: 0.65791166\n",
      "[fold 8] Recall score: 0.56451613, F1 score: 0.55380992, One-Over-Rest ROC: 0.70261606, One-Over-One ROC: 0.70349739\n",
      "[fold 9] Recall score: 0.64112903, F1 score: 0.64192529, One-Over-Rest ROC: 0.73331215, One-Over-One ROC: 0.69801759\n",
      "------------------------------------------------------------------------------------------------------------------------\n",
      "Classifier: RBF SVM\n",
      "[fold 0] Recall score: 0.55823293, F1 score: 0.57095941, One-Over-Rest ROC: 0.77070174, One-Over-One ROC: 0.76107740\n",
      "[fold 1] Recall score: 0.52208835, F1 score: 0.54476173, One-Over-Rest ROC: 0.75559405, One-Over-One ROC: 0.74739515\n",
      "[fold 2] Recall score: 0.60642570, F1 score: 0.62191878, One-Over-Rest ROC: 0.81153945, One-Over-One ROC: 0.80157826\n",
      "[fold 3] Recall score: 0.55020080, F1 score: 0.56689043, One-Over-Rest ROC: 0.78442988, One-Over-One ROC: 0.77963172\n",
      "[fold 4] Recall score: 0.51405622, F1 score: 0.53375813, One-Over-Rest ROC: 0.78705636, One-Over-One ROC: 0.77665386\n",
      "[fold 5] Recall score: 0.53815261, F1 score: 0.56079415, One-Over-Rest ROC: 0.76688041, One-Over-One ROC: 0.74866560\n",
      "[fold 6] Recall score: 0.56626506, F1 score: 0.58811995, One-Over-Rest ROC: 0.75605693, One-Over-One ROC: 0.74761688\n",
      "[fold 7] Recall score: 0.54618474, F1 score: 0.56628125, One-Over-Rest ROC: 0.77295322, One-Over-One ROC: 0.75790205\n",
      "[fold 8] Recall score: 0.50806452, F1 score: 0.52543741, One-Over-Rest ROC: 0.75008017, One-Over-One ROC: 0.73343654\n",
      "[fold 9] Recall score: 0.50403226, F1 score: 0.52046620, One-Over-Rest ROC: 0.73498592, One-Over-One ROC: 0.72058549\n",
      "------------------------------------------------------------------------------------------------------------------------\n",
      "Classifier: Polynomial SVM\n",
      "[fold 0] Recall score: 0.51405622, F1 score: 0.38600297, One-Over-Rest ROC: 0.74863541, One-Over-One ROC: 0.73500990\n",
      "[fold 1] Recall score: 0.52610442, F1 score: 0.40958014, One-Over-Rest ROC: 0.70677466, One-Over-One ROC: 0.69344893\n",
      "[fold 2] Recall score: 0.53815261, F1 score: 0.43765711, One-Over-Rest ROC: 0.74966605, One-Over-One ROC: 0.72654757\n",
      "[fold 3] Recall score: 0.49397590, F1 score: 0.35458498, One-Over-Rest ROC: 0.71618248, One-Over-One ROC: 0.70260667\n",
      "[fold 4] Recall score: 0.51405622, F1 score: 0.39377203, One-Over-Rest ROC: 0.74411414, One-Over-One ROC: 0.71994584\n",
      "[fold 5] Recall score: 0.49799197, F1 score: 0.36310892, One-Over-Rest ROC: 0.72901493, One-Over-One ROC: 0.70039630\n",
      "[fold 6] Recall score: 0.49397590, F1 score: 0.37490832, One-Over-Rest ROC: 0.72173452, One-Over-One ROC: 0.70874909\n",
      "[fold 7] Recall score: 0.51004016, F1 score: 0.38044418, One-Over-Rest ROC: 0.73071741, One-Over-One ROC: 0.71375364\n",
      "[fold 8] Recall score: 0.50403226, F1 score: 0.39209562, One-Over-Rest ROC: 0.70247328, One-Over-One ROC: 0.68106626\n",
      "[fold 9] Recall score: 0.52016129, F1 score: 0.40207930, One-Over-Rest ROC: 0.71784662, One-Over-One ROC: 0.70196560\n",
      "------------------------------------------------------------------------------------------------------------------------\n",
      "Classifier: Neural Net\n",
      "[fold 0] Recall score: 0.66666667, F1 score: 0.66040745, One-Over-Rest ROC: 0.78487660, One-Over-One ROC: 0.78854090\n",
      "[fold 1] Recall score: 0.63052209, F1 score: 0.62237895, One-Over-Rest ROC: 0.75813880, One-Over-One ROC: 0.75621219\n",
      "[fold 2] Recall score: 0.61445783, F1 score: 0.59530504, One-Over-Rest ROC: 0.78183232, One-Over-One ROC: 0.76713397\n",
      "[fold 3] Recall score: 0.54216867, F1 score: 0.56622437, One-Over-Rest ROC: 0.75855739, One-Over-One ROC: 0.75846549\n",
      "[fold 4] Recall score: 0.65863454, F1 score: 0.65498790, One-Over-Rest ROC: 0.78626087, One-Over-One ROC: 0.77382364\n",
      "[fold 5] Recall score: 0.61044177, F1 score: 0.56907515, One-Over-Rest ROC: 0.66393570, One-Over-One ROC: 0.64504122\n",
      "[fold 6] Recall score: 0.60642570, F1 score: 0.62196128, One-Over-Rest ROC: 0.72630691, One-Over-One ROC: 0.69400475\n",
      "[fold 7] Recall score: 0.62248996, F1 score: 0.63037506, One-Over-Rest ROC: 0.76055072, One-Over-One ROC: 0.73366062\n",
      "[fold 8] Recall score: 0.62096774, F1 score: 0.60341293, One-Over-Rest ROC: 0.72575334, One-Over-One ROC: 0.72594729\n",
      "[fold 9] Recall score: 0.63709677, F1 score: 0.62150813, One-Over-Rest ROC: 0.75538244, One-Over-One ROC: 0.73246605\n",
      "------------------------------------------------------------------------------------------------------------------------\n",
      "Classifier: Gaussian Process\n",
      "[fold 0] Recall score: 0.63052209, F1 score: 0.57265721, One-Over-Rest ROC: 0.77595118, One-Over-One ROC: 0.75244219\n",
      "[fold 1] Recall score: 0.61445783, F1 score: 0.56091194, One-Over-Rest ROC: 0.77380865, One-Over-One ROC: 0.75133199\n",
      "[fold 2] Recall score: 0.67469880, F1 score: 0.61814655, One-Over-Rest ROC: 0.81549345, One-Over-One ROC: 0.78436686\n",
      "[fold 3] Recall score: 0.63453815, F1 score: 0.58359415, One-Over-Rest ROC: 0.78379424, One-Over-One ROC: 0.75514398\n",
      "[fold 4] Recall score: 0.64658635, F1 score: 0.59716946, One-Over-Rest ROC: 0.79163382, One-Over-One ROC: 0.76254173\n",
      "[fold 5] Recall score: 0.64658635, F1 score: 0.59364535, One-Over-Rest ROC: 0.78736955, One-Over-One ROC: 0.75286738\n",
      "[fold 6] Recall score: 0.62650602, F1 score: 0.57889978, One-Over-Rest ROC: 0.77323800, One-Over-One ROC: 0.74479478\n",
      "[fold 7] Recall score: 0.63855422, F1 score: 0.58699012, One-Over-Rest ROC: 0.78140406, One-Over-One ROC: 0.74428644\n",
      "[fold 8] Recall score: 0.60887097, F1 score: 0.55494008, One-Over-Rest ROC: 0.75602100, One-Over-One ROC: 0.72804139\n",
      "[fold 9] Recall score: 0.65725806, F1 score: 0.60688937, One-Over-Rest ROC: 0.76967648, One-Over-One ROC: 0.74064448\n",
      "------------------------------------------------------------------------------------------------------------------------\n",
      "Classifier: Gaussian Naive Bayes\n",
      "[fold 0] Recall score: 0.49799197, F1 score: 0.35508699, One-Over-Rest ROC: 0.52712103, One-Over-One ROC: 0.52645881\n",
      "[fold 1] Recall score: 0.16867470, F1 score: 0.09207190, One-Over-Rest ROC: 0.50474201, One-Over-One ROC: 0.49937273\n"
     ]
    },
    {
     "name": "stdout",
     "output_type": "stream",
     "text": [
      "[fold 2] Recall score: 0.49799197, F1 score: 0.35977981, One-Over-Rest ROC: 0.52538981, One-Over-One ROC: 0.52168825\n",
      "[fold 3] Recall score: 0.48995984, F1 score: 0.33386609, One-Over-Rest ROC: 0.51134318, One-Over-One ROC: 0.50762760\n",
      "[fold 4] Recall score: 0.49397590, F1 score: 0.36289245, One-Over-Rest ROC: 0.52220510, One-Over-One ROC: 0.51962183\n",
      "[fold 5] Recall score: 0.48995984, F1 score: 0.34588980, One-Over-Rest ROC: 0.51210389, One-Over-One ROC: 0.51420266\n",
      "[fold 6] Recall score: 0.50200803, F1 score: 0.37562056, One-Over-Rest ROC: 0.52381522, One-Over-One ROC: 0.52265785\n",
      "[fold 7] Recall score: 0.48192771, F1 score: 0.33172723, One-Over-Rest ROC: 0.50965881, One-Over-One ROC: 0.50482134\n",
      "[fold 8] Recall score: 0.36693548, F1 score: 0.21070112, One-Over-Rest ROC: 0.50211301, One-Over-One ROC: 0.50079954\n",
      "[fold 9] Recall score: 0.49193548, F1 score: 0.34879905, One-Over-Rest ROC: 0.52301617, One-Over-One ROC: 0.52046243\n",
      "------------------------------------------------------------------------------------------------------------------------\n",
      "Classifier: Decision Tree\n",
      "[fold 0] Recall score: 0.53012048, F1 score: 0.53767347, One-Over-Rest ROC: 0.71248283, One-Over-One ROC: 0.70827352\n",
      "[fold 1] Recall score: 0.50602410, F1 score: 0.53905123, One-Over-Rest ROC: 0.70040595, One-Over-One ROC: 0.68084602\n",
      "[fold 2] Recall score: 0.63052209, F1 score: 0.64167766, One-Over-Rest ROC: 0.76078390, One-Over-One ROC: 0.75095960\n",
      "[fold 3] Recall score: 0.57028112, F1 score: 0.59579570, One-Over-Rest ROC: 0.75429901, One-Over-One ROC: 0.74087933\n",
      "[fold 4] Recall score: 0.59437751, F1 score: 0.61058605, One-Over-Rest ROC: 0.74056226, One-Over-One ROC: 0.72943685\n",
      "[fold 5] Recall score: 0.55823293, F1 score: 0.58503612, One-Over-Rest ROC: 0.72965547, One-Over-One ROC: 0.70882354\n",
      "[fold 6] Recall score: 0.57831325, F1 score: 0.59645174, One-Over-Rest ROC: 0.72617177, One-Over-One ROC: 0.70183016\n",
      "[fold 7] Recall score: 0.59839357, F1 score: 0.61073258, One-Over-Rest ROC: 0.72768134, One-Over-One ROC: 0.70931968\n",
      "[fold 8] Recall score: 0.50403226, F1 score: 0.52563241, One-Over-Rest ROC: 0.72132654, One-Over-One ROC: 0.70108444\n",
      "[fold 9] Recall score: 0.54032258, F1 score: 0.56035619, One-Over-Rest ROC: 0.70013401, One-Over-One ROC: 0.68368022\n",
      "------------------------------------------------------------------------------------------------------------------------\n",
      "Classifier: Random Forest\n",
      "[fold 0] Recall score: 0.67068273, F1 score: 0.65808790, One-Over-Rest ROC: 0.81390379, One-Over-One ROC: 0.82021980\n",
      "[fold 1] Recall score: 0.65461847, F1 score: 0.64486033, One-Over-Rest ROC: 0.80367340, One-Over-One ROC: 0.79894715\n",
      "[fold 2] Recall score: 0.68674699, F1 score: 0.67175394, One-Over-Rest ROC: 0.83563733, One-Over-One ROC: 0.82018610\n",
      "[fold 3] Recall score: 0.67871486, F1 score: 0.67382983, One-Over-Rest ROC: 0.82382314, One-Over-One ROC: 0.81934205\n",
      "[fold 4] Recall score: 0.69076305, F1 score: 0.68666338, One-Over-Rest ROC: 0.82626739, One-Over-One ROC: 0.82042954\n",
      "[fold 5] Recall score: 0.67068273, F1 score: 0.65483182, One-Over-Rest ROC: 0.82208101, One-Over-One ROC: 0.80479558\n",
      "[fold 6] Recall score: 0.69879518, F1 score: 0.68437900, One-Over-Rest ROC: 0.83618550, One-Over-One ROC: 0.82135484\n",
      "[fold 7] Recall score: 0.63453815, F1 score: 0.62532549, One-Over-Rest ROC: 0.80977900, One-Over-One ROC: 0.79540897\n",
      "[fold 8] Recall score: 0.68951613, F1 score: 0.67938934, One-Over-Rest ROC: 0.80719193, One-Over-One ROC: 0.79232164\n",
      "[fold 9] Recall score: 0.66129032, F1 score: 0.65553158, One-Over-Rest ROC: 0.80298370, One-Over-One ROC: 0.78857556\n",
      "------------------------------------------------------------------------------------------------------------------------\n",
      "Classifier: AdaBoost\n",
      "[fold 0] Recall score: 0.59437751, F1 score: 0.55227075, One-Over-Rest ROC: 0.71446871, One-Over-One ROC: 0.70820437\n",
      "[fold 1] Recall score: 0.59437751, F1 score: 0.55394913, One-Over-Rest ROC: 0.73452089, One-Over-One ROC: 0.71732287\n",
      "[fold 2] Recall score: 0.63052209, F1 score: 0.58856324, One-Over-Rest ROC: 0.78320005, One-Over-One ROC: 0.77177046\n",
      "[fold 3] Recall score: 0.61044177, F1 score: 0.56773805, One-Over-Rest ROC: 0.75102777, One-Over-One ROC: 0.73228045\n",
      "[fold 4] Recall score: 0.63855422, F1 score: 0.59585913, One-Over-Rest ROC: 0.76523195, One-Over-One ROC: 0.74709911\n",
      "[fold 5] Recall score: 0.62650602, F1 score: 0.58000256, One-Over-Rest ROC: 0.74025994, One-Over-One ROC: 0.71619715\n",
      "[fold 6] Recall score: 0.63453815, F1 score: 0.58995589, One-Over-Rest ROC: 0.74292550, One-Over-One ROC: 0.72819448\n",
      "[fold 7] Recall score: 0.61847390, F1 score: 0.57465026, One-Over-Rest ROC: 0.76552453, One-Over-One ROC: 0.75085422\n",
      "[fold 8] Recall score: 0.60887097, F1 score: 0.56333298, One-Over-Rest ROC: 0.73640839, One-Over-One ROC: 0.71314196\n",
      "[fold 9] Recall score: 0.59677419, F1 score: 0.55589530, One-Over-Rest ROC: 0.74399747, One-Over-One ROC: 0.72609207\n",
      "------------------------------------------------------------------------------------------------------------------------\n",
      "Classifier: Gradient Boosting\n",
      "[fold 0] Recall score: 0.62650602, F1 score: 0.60396975, One-Over-Rest ROC: 0.75052643, One-Over-One ROC: 0.75106656\n",
      "[fold 1] Recall score: 0.61044177, F1 score: 0.59339975, One-Over-Rest ROC: 0.76391457, One-Over-One ROC: 0.75098530\n",
      "[fold 2] Recall score: 0.67469880, F1 score: 0.65471084, One-Over-Rest ROC: 0.81127631, One-Over-One ROC: 0.80235237\n",
      "[fold 3] Recall score: 0.63453815, F1 score: 0.61077378, One-Over-Rest ROC: 0.79101387, One-Over-One ROC: 0.78855710\n",
      "[fold 4] Recall score: 0.65461847, F1 score: 0.64253983, One-Over-Rest ROC: 0.80090618, One-Over-One ROC: 0.79408746\n",
      "[fold 5] Recall score: 0.65060241, F1 score: 0.62141644, One-Over-Rest ROC: 0.79318758, One-Over-One ROC: 0.77364405\n",
      "[fold 6] Recall score: 0.62650602, F1 score: 0.60050339, One-Over-Rest ROC: 0.75776747, One-Over-One ROC: 0.74801390\n",
      "[fold 7] Recall score: 0.63453815, F1 score: 0.61463798, One-Over-Rest ROC: 0.79378308, One-Over-One ROC: 0.77556421\n",
      "[fold 8] Recall score: 0.63709677, F1 score: 0.61286001, One-Over-Rest ROC: 0.78402098, One-Over-One ROC: 0.76486874\n",
      "[fold 9] Recall score: 0.60887097, F1 score: 0.59181504, One-Over-Rest ROC: 0.77302544, One-Over-One ROC: 0.76241669\n"
     ]
    }
   ],
   "source": [
    "names = [\n",
    "    \"Nearest Neighbors\",\n",
    "    \"Logistic Regression\",\n",
    "    \"RBF SVM\",\n",
    "    \"Polynomial SVM\",\n",
    "    \"Neural Net\",\n",
    "    \"Gaussian Process\",\n",
    "    \"Gaussian Naive Bayes\",\n",
    "    \"Decision Tree\",\n",
    "    \"Random Forest\",\n",
    "    \"AdaBoost\",\n",
    "    \"Gradient Boosting\"\n",
    "]\n",
    "\n",
    "classifiers = [\n",
    "    KNeighborsClassifier(n_neighbors=20, weights=\"distance\", algorithm=\"auto\"),\n",
    "    LogisticRegression(penalty=\"l2\", solver=\"newton-cg\", class_weight=\"balanced\", \n",
    "                       dual=False, C=1.0, max_iter=5000),\n",
    "    SVC(kernel=\"rbf\", gamma=\"scale\", C=1.0, class_weight=\"balanced\", probability=True),\n",
    "    SVC(kernel=\"poly\", gamma=\"scale\", C=1.0, class_weight=\"balanced\", probability=True),\n",
    "    MLPClassifier(hidden_layer_sizes=(1000,1000,1000), activation=\"relu\", \n",
    "                  solver=\"adam\", alpha=0.0001, \n",
    "                  learning_rate=\"adaptive\", max_iter=2000),\n",
    "    GaussianProcessClassifier(kernel=1.0 * RBF(length_scale=1.0, \n",
    "                                               length_scale_bounds=(1.0E-5, 1.0E8))),\n",
    "    GaussianNB(),\n",
    "    DecisionTreeClassifier(criterion=\"gini\", max_depth=2, min_samples_leaf=20, \n",
    "                           class_weight=\"balanced\"),\n",
    "    RandomForestClassifier(criterion=\"gini\", max_depth=70, min_samples_leaf=1, \n",
    "                           min_samples_split=2, class_weight=\"balanced\", \n",
    "                           n_estimators=1000, max_features=1, bootstrap=False),\n",
    "    AdaBoostClassifier(n_estimators=500, learning_rate=0.01, algorithm='SAMME'),\n",
    "    GradientBoostingClassifier(loss=\"log_loss\", learning_rate=0.01, \n",
    "                               n_estimators=500, max_depth=1)\n",
    "]\n",
    "\n",
    "\n",
    "# k_fold = KFold(n_splits=10, shuffle=True, random_state=42)\n",
    "skf = StratifiedKFold(n_splits=10, shuffle=True, random_state=42)\n",
    "\n",
    "for name, clf in zip(names, classifiers):\n",
    "    # ds_cnt = 0 \n",
    "    # ax = plt.subplot(1, len(classifiers) + 1, 1)\n",
    "    clf = make_pipeline(StandardScaler(), clf)\n",
    "    print(\"-\" * 120)\n",
    "    print(\"Classifier: {0}\".format(name))\n",
    "    for k, (train, test) in enumerate(skf.split(FP_ARR, Y_ARR)):\n",
    "        X_train = FP_ARR[train]\n",
    "        y_train = Y_ARR[train]\n",
    "        X_test = FP_ARR[test]\n",
    "        y_test = Y_ARR[test]\n",
    "\n",
    "        clf.fit(X_train, y_train)\n",
    "        score = clf.score(X_test, y_test)\n",
    "        y_pred = clf.predict(X_test)\n",
    "        y_score = clf.predict_proba(X_test)\n",
    "\n",
    "        # acc_score = accuracy_score(y_test, y_pred, normalize=True)\n",
    "        # prec_score = precision_score(y_test, y_pred, average=\"weighted\")\n",
    "        rec_score = recall_score(y_test, y_pred, average=\"weighted\")\n",
    "        f_score = f1_score(y_test, y_pred, average=\"weighted\")\n",
    "        ovr_ROC = roc_auc_score(y_test, y_score, average=\"weighted\", multi_class=\"ovr\")\n",
    "        ovo_ROC = roc_auc_score(y_test, y_score, average=\"weighted\", multi_class=\"ovo\")\n",
    "        \n",
    "        '''\n",
    "        print(\n",
    "            \"[fold {0}] Classifier: {1}, Accuracy: {2:.8f}\".format(k, name, acc_score)\n",
    "        )\n",
    "        print(\"-\" * 80)\n",
    "        print(\n",
    "            \"Precision score: {0:.6f}, Recall score: {1:.6f}, f1 score: {2:.6f}\".format(\n",
    "                prec_score, rec_score, f_score)\n",
    "        )\n",
    "        '''\n",
    "        print(\n",
    "            \"[fold {0}] Recall score: {1:.8f}, F1 score: {2:.8f}, One-Over-Rest ROC: {3:.8f}, One-Over-One ROC: {4:.8f}\".format(\n",
    "                k, rec_score, f_score, ovr_ROC, ovo_ROC)\n",
    "        )\n",
    "        # print(\"-\" * 80)\n",
    "    "
   ]
  },
  {
   "cell_type": "code",
   "execution_count": null,
   "id": "8983a503",
   "metadata": {},
   "outputs": [],
   "source": []
  }
 ],
 "metadata": {
  "kernelspec": {
   "display_name": "Python 3 (ipykernel)",
   "language": "python",
   "name": "python3"
  },
  "language_info": {
   "codemirror_mode": {
    "name": "ipython",
    "version": 3
   },
   "file_extension": ".py",
   "mimetype": "text/x-python",
   "name": "python",
   "nbconvert_exporter": "python",
   "pygments_lexer": "ipython3",
   "version": "3.9.7"
  }
 },
 "nbformat": 4,
 "nbformat_minor": 5
}
